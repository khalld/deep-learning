{
  "cells": [
    {
      "cell_type": "markdown",
      "metadata": {
        "id": "5bD9cZfJOuBS"
      },
      "source": [
        "### Import libraries"
      ]
    },
    {
      "cell_type": "code",
      "execution_count": null,
      "metadata": {
        "id": "uVwMz27kyG1F"
      },
      "outputs": [],
      "source": [
        "from libs.Dataset import TripletTrashbinDataModule\n",
        "from libs.Model import TripletNetworkTask, evaluating_performance\n",
        "from torch import nn\n",
        "from torchvision.models import squeezenet1_1\n",
        "import torch\n",
        "import pytorch_lightning as pl\n",
        "from torchvision.models import squeezenet1_1\n",
        "from torch import nn\n",
        "import torch\n",
        "from pytorch_lightning.loggers import TensorBoardLogger\n",
        "from pytorch_lightning.callbacks import progress\n",
        "from torchvision.models import squeezenet1_1\n",
        "from torch import nn\n",
        "import torch\n",
        "# or to ignore all warnings that could be false positives\n",
        "import warnings\n",
        "from pytorch_lightning.utilities.warnings import PossibleUserWarning\n",
        "warnings.filterwarnings(\"ignore\", category=PossibleUserWarning)"
      ]
    },
    {
      "cell_type": "code",
      "execution_count": null,
      "metadata": {
        "id": "Mayw3PYEOuBU"
      },
      "outputs": [],
      "source": [
        "data_dir = \"dataset/\"\n",
        "path_gdrive = \"\"\n",
        "device = \"cpu\"\n",
        "\n",
        "class_dict = {\n",
        "    0: 'empty',\n",
        "    1: 'half',\n",
        "    2: 'full'\n",
        "}\n",
        "\n",
        "data_img_size = 224\n",
        "data_batch_size = 256\n",
        "# otherwise, return warning\n",
        "n_workers = 0  # os.cpu_count()"
      ]
    },
    {
      "cell_type": "markdown",
      "metadata": {},
      "source": [
        "Load del dataModule"
      ]
    },
    {
      "cell_type": "code",
      "execution_count": null,
      "metadata": {},
      "outputs": [],
      "source": [
        "dm = TripletTrashbinDataModule(img_size=data_img_size,num_workers=n_workers)\n",
        "# dm.prepare_data()\n",
        "dm.setup()"
      ]
    },
    {
      "cell_type": "markdown",
      "metadata": {
        "id": "1hyaLA21yG1G"
      },
      "source": [
        "### Pre-execution"
      ]
    },
    {
      "cell_type": "code",
      "execution_count": null,
      "metadata": {},
      "outputs": [],
      "source": [
        "squeezeNet = squeezenet1_1(pretrained=True)\n",
        "squeezeNet.classifier = nn.Identity()"
      ]
    },
    {
      "cell_type": "markdown",
      "metadata": {},
      "source": [
        "Dimensione delle feature richieste dal modello <b>TODO: scrivi meglio</b>"
      ]
    },
    {
      "cell_type": "code",
      "execution_count": null,
      "metadata": {},
      "outputs": [],
      "source": [
        "squeezeNet(torch.zeros(1,3,data_img_size,data_img_size)).shape"
      ]
    },
    {
      "cell_type": "code",
      "execution_count": null,
      "metadata": {},
      "outputs": [],
      "source": [
        "triplet_squeezeNet = TripletNetworkTask(squeezeNet, lr=0.002, batch_size=data_batch_size) # parto dal LR trovato nel precedente studio"
      ]
    },
    {
      "cell_type": "markdown",
      "metadata": {},
      "source": [
        "Utilizzando le funzioni di libreria di pytorch_lighting controllo la dimensione del batch <b>SCRIVI MEGLIO</b>"
      ]
    },
    {
      "cell_type": "code",
      "execution_count": null,
      "metadata": {},
      "outputs": [],
      "source": [
        "trainer = pl.Trainer(auto_scale_batch_size=\"power\", max_epochs=-1)\n",
        "trainer.tune(triplet_squeezeNet, datamodule=dm)"
      ]
    },
    {
      "cell_type": "markdown",
      "metadata": {},
      "source": [
        "Utilizzando la funzione di libreria di pytorch lighting vedo qual è il migliore LR <b>SCRIVI MEGLIO</b>"
      ]
    },
    {
      "cell_type": "code",
      "execution_count": null,
      "metadata": {},
      "outputs": [],
      "source": [
        "trainer = pl.Trainer(auto_lr_find=True)\n",
        "lr_finder = trainer.tune(triplet_squeezeNet, datamodule=dm)\n",
        "# TODO: trova il modo di fare il grafico del LR trovato!\n",
        "# triplet_mobileNet.hparams.lr = new_lr # TODO: da verificare se si deve fare così o col costruttore\n",
        "# TODO: SOStituisci il LR\n",
        "lr_finder\n"
      ]
    },
    {
      "cell_type": "markdown",
      "metadata": {},
      "source": [
        "### Training con loss A"
      ]
    },
    {
      "cell_type": "markdown",
      "metadata": {},
      "source": [
        "Valuto le performance prima del training"
      ]
    },
    {
      "cell_type": "code",
      "execution_count": null,
      "metadata": {},
      "outputs": [],
      "source": [
        "# TODO: Instanzio nuovamente il TripletNetworkTask con batch_size e lr in base al risultato di sopra ^ "
      ]
    },
    {
      "cell_type": "code",
      "execution_count": null,
      "metadata": {},
      "outputs": [],
      "source": [
        "evaluating_performance(triplet_squeezeNet, dm, data_batch_size)"
      ]
    },
    {
      "cell_type": "markdown",
      "metadata": {},
      "source": [
        "Alleno il modello per 10 epoche con loss A"
      ]
    },
    {
      "cell_type": "code",
      "execution_count": null,
      "metadata": {},
      "outputs": [],
      "source": [
        "logger = TensorBoardLogger(\"models/logs\", name=\"triplet_squeezeNet_v1\")\n",
        "\n",
        "trainer = pl.Trainer(gpus=0,\n",
        "                    max_epochs=10,\n",
        "                    callbacks=[progress.TQDMProgressBar()],\n",
        "                    logger=logger,\n",
        "                    accelerator=\"auto\",\n",
        "                    )\n",
        "\n",
        "trainer.fit(model=triplet_squeezeNet, datamodule=dm)\n",
        "trainer.save_checkpoint('models/triplet_squeezeNet_v1_{}_batch.ckpt'.format(data_batch_size) )\n",
        "torch.save(trainer.model.state_dict(), \"models/triplet_squeezeNet_v1_{}_batch.pth\")\n"
      ]
    },
    {
      "cell_type": "markdown",
      "metadata": {},
      "source": [
        "Valuto le performance ottenute"
      ]
    },
    {
      "cell_type": "code",
      "execution_count": null,
      "metadata": {},
      "outputs": [],
      "source": [
        "evaluating_performance(triplet_squeezeNet, dm, data_batch_size)"
      ]
    },
    {
      "cell_type": "markdown",
      "metadata": {},
      "source": [
        "#### Valuto con B\n",
        "\n",
        "Devo fare di nuovo l'esecuzione del batch e del lr con V2 ????? SI!"
      ]
    }
  ],
  "metadata": {
    "accelerator": "GPU",
    "colab": {
      "name": "main.ipynb",
      "provenance": []
    },
    "interpreter": {
      "hash": "7b5afb9c6c69ce826c7b3420d962c361055e44e7f6b101c54e3065067bcff4ff"
    },
    "kernelspec": {
      "display_name": "Python 3.9.9 ('venv': venv)",
      "language": "python",
      "name": "python3"
    },
    "language_info": {
      "codemirror_mode": {
        "name": "ipython",
        "version": 3
      },
      "file_extension": ".py",
      "mimetype": "text/x-python",
      "name": "python",
      "nbconvert_exporter": "python",
      "pygments_lexer": "ipython3",
      "version": "3.9.9"
    },
    "orig_nbformat": 4
  },
  "nbformat": 4,
  "nbformat_minor": 0
}
