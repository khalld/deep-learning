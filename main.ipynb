{
  "cells": [
    {
      "cell_type": "markdown",
      "metadata": {
        "id": "5bD9cZfJOuBS"
      },
      "source": [
        "### Import libraries"
      ]
    },
    {
      "cell_type": "code",
      "execution_count": 1,
      "metadata": {
        "id": "uVwMz27kyG1F"
      },
      "outputs": [],
      "source": [
        "from libs.Dataset import TripletTrashbinDataModule\n",
        "from libs.Model import TripletNetworkTask,TripletNetworkTaskV2, evaluating_performance\n",
        "from torch import nn\n",
        "from torchvision.models import squeezenet1_1\n",
        "import torch\n",
        "import pytorch_lightning as pl\n",
        "from torchvision.models import squeezenet1_1\n",
        "from torch import nn\n",
        "import torch\n",
        "from pytorch_lightning.loggers import TensorBoardLogger\n",
        "from pytorch_lightning.callbacks import progress\n",
        "from torchvision.models import squeezenet1_1\n",
        "from torch import nn\n",
        "import torch\n",
        "# or to ignore all warnings that could be false positives\n",
        "import warnings\n",
        "warnings.filterwarnings(\"ignore\")\n",
        "from pytorch_lightning.utilities.warnings import PossibleUserWarning\n",
        "warnings.filterwarnings(\"ignore\", category=PossibleUserWarning)\n",
        "import dill"
      ]
    },
    {
      "cell_type": "code",
      "execution_count": 2,
      "metadata": {
        "id": "Mayw3PYEOuBU"
      },
      "outputs": [],
      "source": [
        "class_dict = {\n",
        "    0: 'empty',\n",
        "    1: 'half',\n",
        "    2: 'full'\n",
        "}\n",
        "\n",
        "data_img_size = 224\n",
        "data_batch_size = 256\n",
        "# otherwise, return warning\n",
        "n_workers = 0  # os.cpu_count()"
      ]
    },
    {
      "cell_type": "markdown",
      "metadata": {},
      "source": [
        "Load del dataModule"
      ]
    },
    {
      "cell_type": "code",
      "execution_count": 3,
      "metadata": {},
      "outputs": [],
      "source": [
        "dm = TripletTrashbinDataModule(img_size=data_img_size,num_workers=n_workers)\n",
        "# dm.prepare_data()\n",
        "dm.setup()"
      ]
    },
    {
      "cell_type": "markdown",
      "metadata": {
        "id": "1hyaLA21yG1G"
      },
      "source": [
        "### Loading squeezeNet"
      ]
    },
    {
      "cell_type": "code",
      "execution_count": 4,
      "metadata": {},
      "outputs": [],
      "source": [
        "squeezeNet = squeezenet1_1(pretrained=True)\n",
        "squeezeNet.classifier = nn.Identity()"
      ]
    },
    {
      "cell_type": "markdown",
      "metadata": {},
      "source": [
        "Dimensione delle feature richieste dal modello <b>TODO: scrivi meglio</b>"
      ]
    },
    {
      "cell_type": "code",
      "execution_count": 5,
      "metadata": {},
      "outputs": [
        {
          "data": {
            "text/plain": [
              "torch.Size([1, 86528])"
            ]
          },
          "execution_count": 5,
          "metadata": {},
          "output_type": "execute_result"
        }
      ],
      "source": [
        "squeezeNet(torch.zeros(1,3,data_img_size,data_img_size)).shape"
      ]
    },
    {
      "cell_type": "markdown",
      "metadata": {},
      "source": [
        "### Triplet squeezeNet v1"
      ]
    },
    {
      "cell_type": "code",
      "execution_count": 5,
      "metadata": {},
      "outputs": [],
      "source": [
        "triplet_squeezeNet = TripletNetworkTask(squeezeNet, lr=0.002, batch_size=data_batch_size) # parto dal LR trovato nel precedente studio"
      ]
    },
    {
      "cell_type": "markdown",
      "metadata": {},
      "source": [
        "Utilizzando le funzioni di libreria di pytorch_lighting controllo la dimensione del batch <b>SCRIVI MEGLIO</b>"
      ]
    },
    {
      "cell_type": "code",
      "execution_count": 7,
      "metadata": {},
      "outputs": [
        {
          "name": "stderr",
          "output_type": "stream",
          "text": [
            "GPU available: False, used: False\n",
            "TPU available: False, using: 0 TPU cores\n",
            "IPU available: False, using: 0 IPUs\n",
            "HPU available: False, using: 0 HPUs\n",
            "Batch size 2 succeeded, trying batch size 4\n",
            "Batch size 4 succeeded, trying batch size 8\n",
            "Batch size 8 succeeded, trying batch size 16\n",
            "Batch size 16 succeeded, trying batch size 32\n",
            "Batch size 32 succeeded, trying batch size 64\n",
            "Batch size 64 succeeded, trying batch size 128\n",
            "Batch size 128 succeeded, trying batch size 256\n",
            "Batch size 256 succeeded, trying batch size 512\n",
            "Batch size 512 succeeded, trying batch size 1024\n",
            "Batch size 1024 succeeded, trying batch size 2048\n",
            "Batch size 2048 succeeded, trying batch size 4096\n",
            "Batch size 4096 succeeded, trying batch size 8192\n",
            "Batch size 6600 succeeded, trying batch size 13200\n",
            "Finished batch size finder, will continue with full run using batch size 6600\n",
            "Restoring states from the checkpoint path at /Users/danilo/GitHub/deep-learning/.scale_batch_size_cd046314-3d33-42b7-8bb2-55d987f7354e.ckpt\n"
          ]
        },
        {
          "data": {
            "text/plain": [
              "{'scale_batch_size': 6600}"
            ]
          },
          "execution_count": 7,
          "metadata": {},
          "output_type": "execute_result"
        }
      ],
      "source": [
        "trainer = pl.Trainer(auto_scale_batch_size=\"power\", max_epochs=-1)\n",
        "trainer.tune(triplet_squeezeNet, datamodule=dm)"
      ]
    },
    {
      "cell_type": "markdown",
      "metadata": {},
      "source": [
        "Utilizzando la funzione di libreria di pytorch lighting vedo qual è il migliore LR <b>SCRIVI MEGLIO</b>"
      ]
    },
    {
      "cell_type": "code",
      "execution_count": 8,
      "metadata": {},
      "outputs": [
        {
          "name": "stderr",
          "output_type": "stream",
          "text": [
            "GPU available: False, used: False\n",
            "TPU available: False, using: 0 TPU cores\n",
            "IPU available: False, using: 0 IPUs\n",
            "HPU available: False, using: 0 HPUs\n"
          ]
        },
        {
          "data": {
            "application/vnd.jupyter.widget-view+json": {
              "model_id": "d172ef3e7caf4df48d585a644b95ff36",
              "version_major": 2,
              "version_minor": 0
            },
            "text/plain": [
              "Finding best initial lr:   0%|          | 0/100 [00:00<?, ?it/s]"
            ]
          },
          "metadata": {},
          "output_type": "display_data"
        },
        {
          "name": "stderr",
          "output_type": "stream",
          "text": [
            "LR finder stopped early after 56 steps due to diverging loss.\n",
            "Restoring states from the checkpoint path at /Users/danilo/GitHub/deep-learning/.lr_find_fef24b37-73d2-41af-9971-1de88345f9fe.ckpt\n",
            "Learning rate set to 7.585775750291837e-08\n"
          ]
        },
        {
          "data": {
            "text/plain": [
              "{'lr_find': <pytorch_lightning.tuner.lr_finder._LRFinder at 0x1078dc280>}"
            ]
          },
          "execution_count": 8,
          "metadata": {},
          "output_type": "execute_result"
        }
      ],
      "source": [
        "trainer = pl.Trainer(auto_lr_find=True)\n",
        "lr_finder = trainer.tune(triplet_squeezeNet, datamodule=dm)\n",
        "# TODO: trova il modo di fare il grafico del LR trovato!\n",
        "# triplet_mobileNet.hparams.lr = new_lr # TODO: da verificare se si deve fare così o col costruttore\n",
        "# TODO: SOStituisci il LR\n",
        "lr_finder\n"
      ]
    },
    {
      "cell_type": "code",
      "execution_count": 9,
      "metadata": {},
      "outputs": [],
      "source": [
        "dill.dump_session('backup_session_1.pkl')"
      ]
    },
    {
      "cell_type": "markdown",
      "metadata": {},
      "source": [
        "Valuto le performance prima del training"
      ]
    },
    {
      "cell_type": "code",
      "execution_count": 5,
      "metadata": {},
      "outputs": [],
      "source": [
        "triplet_squeezeNet = TripletNetworkTask(squeezeNet, lr=7.585775750291837e-08, batch_size=data_batch_size)\n",
        "# TODO: Instanzio nuovamente il TripletNetworkTask con batch_size e lr in base al risultato di sopra ^ "
      ]
    },
    {
      "cell_type": "code",
      "execution_count": 6,
      "metadata": {},
      "outputs": [
        {
          "name": "stderr",
          "output_type": "stream",
          "text": [
            "100%|██████████| 207/207 [11:28<00:00,  3.32s/it]\n",
            "100%|██████████| 124/124 [06:59<00:00,  3.38s/it]\n"
          ]
        },
        {
          "name": "stdout",
          "output_type": "stream",
          "text": [
            "Classification error before training 6.855654600401044\n"
          ]
        },
        {
          "name": "stderr",
          "output_type": "stream",
          "text": [
            "100%|██████████| 124/124 [07:01<00:00,  3.40s/it]\n"
          ]
        },
        {
          "data": {
            "image/png": "[encoded data removed]",
            "text/plain": [
              "<Figure size 576x432 with 1 Axes>"
            ]
          },
          "metadata": {
            "needs_background": "light"
          },
          "output_type": "display_data"
        }
      ],
      "source": [
        "evaluating_performance(triplet_squeezeNet, dm, data_batch_size)"
      ]
    },
    {
      "cell_type": "markdown",
      "metadata": {},
      "source": [
        "Alleno il modello per 10 epoche con loss A"
      ]
    },
    {
      "cell_type": "code",
      "execution_count": 7,
      "metadata": {},
      "outputs": [
        {
          "name": "stderr",
          "output_type": "stream",
          "text": [
            "GPU available: False, used: False\n",
            "TPU available: False, using: 0 TPU cores\n",
            "IPU available: False, using: 0 IPUs\n",
            "HPU available: False, using: 0 HPUs\n",
            "Missing logger folder: models/logs/triplet_squeezeNet_v1\n",
            "\n",
            "  | Name          | Type              | Params\n",
            "----------------------------------------------------\n",
            "0 | embedding_net | SqueezeNet        | 722 K \n",
            "1 | criterion     | TripletMarginLoss | 0     \n",
            "----------------------------------------------------\n",
            "722 K     Trainable params\n",
            "0         Non-trainable params\n",
            "722 K     Total params\n",
            "2.890     Total estimated model params size (MB)\n"
          ]
        },
        {
          "data": {
            "application/vnd.jupyter.widget-view+json": {
              "model_id": "e5b4867a82bd4b1c845ce7071544d921",
              "version_major": 2,
              "version_minor": 0
            },
            "text/plain": [
              "Sanity Checking: 0it [00:00, ?it/s]"
            ]
          },
          "metadata": {},
          "output_type": "display_data"
        },
        {
          "data": {
            "application/vnd.jupyter.widget-view+json": {
              "model_id": "33808ceba13e4a8089084f10b455b364",
              "version_major": 2,
              "version_minor": 0
            },
            "text/plain": [
              "Training: 0it [00:00, ?it/s]"
            ]
          },
          "metadata": {},
          "output_type": "display_data"
        },
        {
          "data": {
            "application/vnd.jupyter.widget-view+json": {
              "model_id": "efdc31b7e03d4962884fc106a60d0ecb",
              "version_major": 2,
              "version_minor": 0
            },
            "text/plain": [
              "Validation: 0it [00:00, ?it/s]"
            ]
          },
          "metadata": {},
          "output_type": "display_data"
        },
        {
          "data": {
            "application/vnd.jupyter.widget-view+json": {
              "model_id": "ca9b04accd004b558200bbf3cac2ed33",
              "version_major": 2,
              "version_minor": 0
            },
            "text/plain": [
              "Validation: 0it [00:00, ?it/s]"
            ]
          },
          "metadata": {},
          "output_type": "display_data"
        },
        {
          "data": {
            "application/vnd.jupyter.widget-view+json": {
              "model_id": "10a3eec696dc405ab4a58d9db2414650",
              "version_major": 2,
              "version_minor": 0
            },
            "text/plain": [
              "Validation: 0it [00:00, ?it/s]"
            ]
          },
          "metadata": {},
          "output_type": "display_data"
        },
        {
          "data": {
            "application/vnd.jupyter.widget-view+json": {
              "model_id": "238b34049d614bf5a88eaf1eb999f0ba",
              "version_major": 2,
              "version_minor": 0
            },
            "text/plain": [
              "Validation: 0it [00:00, ?it/s]"
            ]
          },
          "metadata": {},
          "output_type": "display_data"
        },
        {
          "data": {
            "application/vnd.jupyter.widget-view+json": {
              "model_id": "562036ffa8ca4bdfb9c44f15cd098196",
              "version_major": 2,
              "version_minor": 0
            },
            "text/plain": [
              "Validation: 0it [00:00, ?it/s]"
            ]
          },
          "metadata": {},
          "output_type": "display_data"
        },
        {
          "data": {
            "application/vnd.jupyter.widget-view+json": {
              "model_id": "b975dc2fb61e4528bab7d13ea716a013",
              "version_major": 2,
              "version_minor": 0
            },
            "text/plain": [
              "Validation: 0it [00:00, ?it/s]"
            ]
          },
          "metadata": {},
          "output_type": "display_data"
        },
        {
          "data": {
            "application/vnd.jupyter.widget-view+json": {
              "model_id": "be9ddb4d208f41e5a647f5675532156b",
              "version_major": 2,
              "version_minor": 0
            },
            "text/plain": [
              "Validation: 0it [00:00, ?it/s]"
            ]
          },
          "metadata": {},
          "output_type": "display_data"
        },
        {
          "data": {
            "application/vnd.jupyter.widget-view+json": {
              "model_id": "b49787d4d6574c44a1f1b827b732b5a9",
              "version_major": 2,
              "version_minor": 0
            },
            "text/plain": [
              "Validation: 0it [00:00, ?it/s]"
            ]
          },
          "metadata": {},
          "output_type": "display_data"
        },
        {
          "data": {
            "application/vnd.jupyter.widget-view+json": {
              "model_id": "77708eb1d406457c89824a5f1e76fb38",
              "version_major": 2,
              "version_minor": 0
            },
            "text/plain": [
              "Validation: 0it [00:00, ?it/s]"
            ]
          },
          "metadata": {},
          "output_type": "display_data"
        },
        {
          "data": {
            "application/vnd.jupyter.widget-view+json": {
              "model_id": "7a2fe5328eb64d3da506cde46823af51",
              "version_major": 2,
              "version_minor": 0
            },
            "text/plain": [
              "Validation: 0it [00:00, ?it/s]"
            ]
          },
          "metadata": {},
          "output_type": "display_data"
        },
        {
          "data": {
            "application/vnd.jupyter.widget-view+json": {
              "model_id": "2f73b28521644f6782e732ad80e7a3e5",
              "version_major": 2,
              "version_minor": 0
            },
            "text/plain": [
              "Validation: 0it [00:00, ?it/s]"
            ]
          },
          "metadata": {},
          "output_type": "display_data"
        }
      ],
      "source": [
        "logger = TensorBoardLogger(\"models/logs\", name=\"triplet_squeezeNet_v1\")\n",
        "\n",
        "trainer = pl.Trainer(gpus=0,\n",
        "                    max_epochs=11,\n",
        "                    callbacks=[progress.TQDMProgressBar()],\n",
        "                    logger=logger,\n",
        "                    accelerator=\"auto\",\n",
        "                    )\n",
        "\n",
        "trainer.fit(model=triplet_squeezeNet, datamodule=dm)\n",
        "trainer.save_checkpoint('models/triplet_squeezeNet_v1_{}_batch.ckpt'.format(data_batch_size) )\n",
        "torch.save(trainer.model.state_dict(), 'models/triplet_squeezeNet_v1_{}_batch.pth'.format(data_batch_size))\n"
      ]
    },
    {
      "cell_type": "markdown",
      "metadata": {},
      "source": [
        "Valuto le performance ottenute"
      ]
    },
    {
      "cell_type": "code",
      "execution_count": 8,
      "metadata": {},
      "outputs": [
        {
          "name": "stderr",
          "output_type": "stream",
          "text": [
            "100%|██████████| 207/207 [11:32<00:00,  3.34s/it]\n",
            "100%|██████████| 124/124 [07:02<00:00,  3.40s/it]\n"
          ]
        },
        {
          "name": "stdout",
          "output_type": "stream",
          "text": [
            "Classification error before training 1.7320508075688772\n"
          ]
        },
        {
          "name": "stderr",
          "output_type": "stream",
          "text": [
            "100%|██████████| 124/124 [07:38<00:00,  3.70s/it]\n"
          ]
        },
        {
          "data": {
            "image/png": "[encoded data removed]",
            "text/plain": [
              "<Figure size 576x432 with 1 Axes>"
            ]
          },
          "metadata": {
            "needs_background": "light"
          },
          "output_type": "display_data"
        }
      ],
      "source": [
        "evaluating_performance(triplet_squeezeNet, dm, data_batch_size)"
      ]
    },
    {
      "cell_type": "markdown",
      "metadata": {},
      "source": [
        "### Triplet squeezeNet v2"
      ]
    },
    {
      "cell_type": "code",
      "execution_count": 5,
      "metadata": {},
      "outputs": [],
      "source": [
        "triplet_squeezeNet_v2 = TripletNetworkTaskV2(squeezeNet, lr=0.002, batch_size=data_batch_size) # parto dal LR trovato nel precedente studio"
      ]
    },
    {
      "cell_type": "code",
      "execution_count": 6,
      "metadata": {},
      "outputs": [
        {
          "name": "stderr",
          "output_type": "stream",
          "text": [
            "GPU available: False, used: False\n",
            "TPU available: False, using: 0 TPU cores\n",
            "IPU available: False, using: 0 IPUs\n",
            "HPU available: False, using: 0 HPUs\n"
          ]
        },
        {
          "data": {
            "application/vnd.jupyter.widget-view+json": {
              "model_id": "faed064022fd482ca2c2dc621bfced16",
              "version_major": 2,
              "version_minor": 0
            },
            "text/plain": [
              "Finding best initial lr:   0%|          | 0/100 [00:00<?, ?it/s]"
            ]
          },
          "metadata": {},
          "output_type": "display_data"
        },
        {
          "name": "stderr",
          "output_type": "stream",
          "text": [
            "LR finder stopped early after 56 steps due to diverging loss.\n",
            "Restoring states from the checkpoint path at /Users/danilo/GitHub/deep-learning/.lr_find_ddaddba9-e367-4607-a0c2-e1459fbc6b89.ckpt\n",
            "Learning rate set to 7.585775750291837e-08\n"
          ]
        }
      ],
      "source": [
        "trainer = pl.Trainer(auto_lr_find=True)\n",
        "lr_finder = trainer.tune(triplet_squeezeNet_v2, datamodule=dm)"
      ]
    },
    {
      "cell_type": "code",
      "execution_count": 7,
      "metadata": {},
      "outputs": [],
      "source": [
        "dill.dump_session('backup_session_2.pkl')"
      ]
    },
    {
      "cell_type": "code",
      "execution_count": 6,
      "metadata": {},
      "outputs": [],
      "source": [
        "triplet_squeezeNet_v2 = TripletNetworkTaskV2(squeezeNet, lr=7.585775750291837e-08, batch_size=data_batch_size)"
      ]
    },
    {
      "cell_type": "code",
      "execution_count": 9,
      "metadata": {},
      "outputs": [
        {
          "name": "stderr",
          "output_type": "stream",
          "text": [
            "100%|██████████| 207/207 [11:54<00:00,  3.45s/it]\n",
            "100%|██████████| 124/124 [07:08<00:00,  3.45s/it]\n"
          ]
        },
        {
          "name": "stdout",
          "output_type": "stream",
          "text": [
            "Classification error 6.855654600401044\n"
          ]
        },
        {
          "name": "stderr",
          "output_type": "stream",
          "text": [
            "100%|██████████| 124/124 [07:09<00:00,  3.46s/it]\n"
          ]
        },
        {
          "data": {
            "image/png": "[encoded data removed]",
            "text/plain": [
              "<Figure size 576x432 with 1 Axes>"
            ]
          },
          "metadata": {
            "needs_background": "light"
          },
          "output_type": "display_data"
        }
      ],
      "source": [
        "evaluating_performance(triplet_squeezeNet_v2, dm)"
      ]
    },
    {
      "cell_type": "code",
      "execution_count": 10,
      "metadata": {},
      "outputs": [
        {
          "name": "stderr",
          "output_type": "stream",
          "text": [
            "GPU available: False, used: False\n",
            "TPU available: False, using: 0 TPU cores\n",
            "IPU available: False, using: 0 IPUs\n",
            "HPU available: False, using: 0 HPUs\n",
            "Missing logger folder: models/logs/triplet_squeezeNet_v2\n",
            "\n",
            "  | Name          | Type                          | Params\n",
            "----------------------------------------------------------------\n",
            "0 | embedding_net | SqueezeNet                    | 722 K \n",
            "1 | criterion     | TripletMarginWithDistanceLoss | 0     \n",
            "----------------------------------------------------------------\n",
            "722 K     Trainable params\n",
            "0         Non-trainable params\n",
            "722 K     Total params\n",
            "2.890     Total estimated model params size (MB)\n"
          ]
        },
        {
          "data": {
            "application/vnd.jupyter.widget-view+json": {
              "model_id": "160a0f7c641b4ea0bfc527384d0c9e24",
              "version_major": 2,
              "version_minor": 0
            },
            "text/plain": [
              "Sanity Checking: 0it [00:00, ?it/s]"
            ]
          },
          "metadata": {},
          "output_type": "display_data"
        },
        {
          "data": {
            "application/vnd.jupyter.widget-view+json": {
              "model_id": "df07683191d64e3db6686c5a3cc955a4",
              "version_major": 2,
              "version_minor": 0
            },
            "text/plain": [
              "Training: 0it [00:00, ?it/s]"
            ]
          },
          "metadata": {},
          "output_type": "display_data"
        },
        {
          "data": {
            "application/vnd.jupyter.widget-view+json": {
              "model_id": "4a3246a308bd4aebb3fc4f3a0ada6fae",
              "version_major": 2,
              "version_minor": 0
            },
            "text/plain": [
              "Validation: 0it [00:00, ?it/s]"
            ]
          },
          "metadata": {},
          "output_type": "display_data"
        },
        {
          "data": {
            "application/vnd.jupyter.widget-view+json": {
              "model_id": "3f497d158230410b8d197757379939d2",
              "version_major": 2,
              "version_minor": 0
            },
            "text/plain": [
              "Validation: 0it [00:00, ?it/s]"
            ]
          },
          "metadata": {},
          "output_type": "display_data"
        },
        {
          "data": {
            "application/vnd.jupyter.widget-view+json": {
              "model_id": "0a6bbd310b714267ae1e029a0e9799d9",
              "version_major": 2,
              "version_minor": 0
            },
            "text/plain": [
              "Validation: 0it [00:00, ?it/s]"
            ]
          },
          "metadata": {},
          "output_type": "display_data"
        },
        {
          "data": {
            "application/vnd.jupyter.widget-view+json": {
              "model_id": "ea15f25fb56745e4a1c9d7de16494e22",
              "version_major": 2,
              "version_minor": 0
            },
            "text/plain": [
              "Validation: 0it [00:00, ?it/s]"
            ]
          },
          "metadata": {},
          "output_type": "display_data"
        },
        {
          "data": {
            "application/vnd.jupyter.widget-view+json": {
              "model_id": "f9cc3cb66dbd4952ac5d107281b57665",
              "version_major": 2,
              "version_minor": 0
            },
            "text/plain": [
              "Validation: 0it [00:00, ?it/s]"
            ]
          },
          "metadata": {},
          "output_type": "display_data"
        },
        {
          "data": {
            "application/vnd.jupyter.widget-view+json": {
              "model_id": "3b44ccf4a7594f3ebc861b78aad25ce9",
              "version_major": 2,
              "version_minor": 0
            },
            "text/plain": [
              "Validation: 0it [00:00, ?it/s]"
            ]
          },
          "metadata": {},
          "output_type": "display_data"
        },
        {
          "data": {
            "application/vnd.jupyter.widget-view+json": {
              "model_id": "c2c0493288ef49599f603f4382007fcb",
              "version_major": 2,
              "version_minor": 0
            },
            "text/plain": [
              "Validation: 0it [00:00, ?it/s]"
            ]
          },
          "metadata": {},
          "output_type": "display_data"
        },
        {
          "data": {
            "application/vnd.jupyter.widget-view+json": {
              "model_id": "fcfe60a72dad446cb0748246592989ee",
              "version_major": 2,
              "version_minor": 0
            },
            "text/plain": [
              "Validation: 0it [00:00, ?it/s]"
            ]
          },
          "metadata": {},
          "output_type": "display_data"
        },
        {
          "data": {
            "application/vnd.jupyter.widget-view+json": {
              "model_id": "0bad705bd06b4b1aab354472b75f8c03",
              "version_major": 2,
              "version_minor": 0
            },
            "text/plain": [
              "Validation: 0it [00:00, ?it/s]"
            ]
          },
          "metadata": {},
          "output_type": "display_data"
        },
        {
          "data": {
            "application/vnd.jupyter.widget-view+json": {
              "model_id": "4b748acc91034423aa91a98a7161978c",
              "version_major": 2,
              "version_minor": 0
            },
            "text/plain": [
              "Validation: 0it [00:00, ?it/s]"
            ]
          },
          "metadata": {},
          "output_type": "display_data"
        },
        {
          "data": {
            "application/vnd.jupyter.widget-view+json": {
              "model_id": "0f17200ba9f84cffbabd5f03577f6aeb",
              "version_major": 2,
              "version_minor": 0
            },
            "text/plain": [
              "Validation: 0it [00:00, ?it/s]"
            ]
          },
          "metadata": {},
          "output_type": "display_data"
        },
        {
          "data": {
            "application/vnd.jupyter.widget-view+json": {
              "model_id": "a17e182eae3147dd8ec1248fe5e5befe",
              "version_major": 2,
              "version_minor": 0
            },
            "text/plain": [
              "Validation: 0it [00:00, ?it/s]"
            ]
          },
          "metadata": {},
          "output_type": "display_data"
        },
        {
          "data": {
            "application/vnd.jupyter.widget-view+json": {
              "model_id": "72f9842b99ff49da8b769a6f7afa8d10",
              "version_major": 2,
              "version_minor": 0
            },
            "text/plain": [
              "Validation: 0it [00:00, ?it/s]"
            ]
          },
          "metadata": {},
          "output_type": "display_data"
        },
        {
          "data": {
            "application/vnd.jupyter.widget-view+json": {
              "model_id": "7ec61d881a21466ca9dd78837ce14635",
              "version_major": 2,
              "version_minor": 0
            },
            "text/plain": [
              "Validation: 0it [00:00, ?it/s]"
            ]
          },
          "metadata": {},
          "output_type": "display_data"
        },
        {
          "data": {
            "application/vnd.jupyter.widget-view+json": {
              "model_id": "d6d411e6bdb34083a1aa926efa7c544f",
              "version_major": 2,
              "version_minor": 0
            },
            "text/plain": [
              "Validation: 0it [00:00, ?it/s]"
            ]
          },
          "metadata": {},
          "output_type": "display_data"
        },
        {
          "data": {
            "application/vnd.jupyter.widget-view+json": {
              "model_id": "d0330409c96447cc824391fc314fe4e6",
              "version_major": 2,
              "version_minor": 0
            },
            "text/plain": [
              "Validation: 0it [00:00, ?it/s]"
            ]
          },
          "metadata": {},
          "output_type": "display_data"
        },
        {
          "data": {
            "application/vnd.jupyter.widget-view+json": {
              "model_id": "6c5815328b41490393a005c1b699de61",
              "version_major": 2,
              "version_minor": 0
            },
            "text/plain": [
              "Validation: 0it [00:00, ?it/s]"
            ]
          },
          "metadata": {},
          "output_type": "display_data"
        },
        {
          "data": {
            "application/vnd.jupyter.widget-view+json": {
              "model_id": "013b3f662eaa451c93a07016dcb4e267",
              "version_major": 2,
              "version_minor": 0
            },
            "text/plain": [
              "Validation: 0it [00:00, ?it/s]"
            ]
          },
          "metadata": {},
          "output_type": "display_data"
        },
        {
          "data": {
            "application/vnd.jupyter.widget-view+json": {
              "model_id": "a86ea7835d2249c9b460f4f2536bfe7a",
              "version_major": 2,
              "version_minor": 0
            },
            "text/plain": [
              "Validation: 0it [00:00, ?it/s]"
            ]
          },
          "metadata": {},
          "output_type": "display_data"
        },
        {
          "data": {
            "application/vnd.jupyter.widget-view+json": {
              "model_id": "3492822e776144788f9449daf35aec75",
              "version_major": 2,
              "version_minor": 0
            },
            "text/plain": [
              "Validation: 0it [00:00, ?it/s]"
            ]
          },
          "metadata": {},
          "output_type": "display_data"
        },
        {
          "data": {
            "application/vnd.jupyter.widget-view+json": {
              "model_id": "a287680b87f44e1b804738056ab8eb05",
              "version_major": 2,
              "version_minor": 0
            },
            "text/plain": [
              "Validation: 0it [00:00, ?it/s]"
            ]
          },
          "metadata": {},
          "output_type": "display_data"
        },
        {
          "data": {
            "application/vnd.jupyter.widget-view+json": {
              "model_id": "516bbdf586724168874196c98db47783",
              "version_major": 2,
              "version_minor": 0
            },
            "text/plain": [
              "Validation: 0it [00:00, ?it/s]"
            ]
          },
          "metadata": {},
          "output_type": "display_data"
        },
        {
          "data": {
            "application/vnd.jupyter.widget-view+json": {
              "model_id": "0c11773b7ec24943a6d7dec32f5732a4",
              "version_major": 2,
              "version_minor": 0
            },
            "text/plain": [
              "Validation: 0it [00:00, ?it/s]"
            ]
          },
          "metadata": {},
          "output_type": "display_data"
        },
        {
          "data": {
            "application/vnd.jupyter.widget-view+json": {
              "model_id": "cc449f19aef247c2b10b2fd03bf2fda4",
              "version_major": 2,
              "version_minor": 0
            },
            "text/plain": [
              "Validation: 0it [00:00, ?it/s]"
            ]
          },
          "metadata": {},
          "output_type": "display_data"
        },
        {
          "data": {
            "application/vnd.jupyter.widget-view+json": {
              "model_id": "090845ec5b5d4842b89e173b7b69eb6a",
              "version_major": 2,
              "version_minor": 0
            },
            "text/plain": [
              "Validation: 0it [00:00, ?it/s]"
            ]
          },
          "metadata": {},
          "output_type": "display_data"
        },
        {
          "data": {
            "application/vnd.jupyter.widget-view+json": {
              "model_id": "46cd9a33bf1c467da3632c3c0546941c",
              "version_major": 2,
              "version_minor": 0
            },
            "text/plain": [
              "Validation: 0it [00:00, ?it/s]"
            ]
          },
          "metadata": {},
          "output_type": "display_data"
        }
      ],
      "source": [
        "# TODO: fai load from ckpt e completa le ultime 30 epoche\n",
        "\n",
        "logger = TensorBoardLogger(\"models/logs\", name=\"triplet_squeezeNet_v2\")\n",
        "\n",
        "trainer = pl.Trainer(gpus=0,\n",
        "                    max_epochs=31,\n",
        "                    callbacks=[progress.TQDMProgressBar()],\n",
        "                    logger=logger,\n",
        "                    accelerator=\"auto\",\n",
        "                    )\n",
        "\n",
        "trainer.fit(model=triplet_squeezeNet_v2, datamodule=dm)\n",
        "trainer.save_checkpoint('models/triplet_squeezeNet_v2_{}_batch.ckpt'.format(data_batch_size) )\n",
        "torch.save(trainer.model.state_dict(), 'models/triplet_squeezeNet_v2_{}_batch.pth'.format(data_batch_size))"
      ]
    },
    {
      "cell_type": "code",
      "execution_count": null,
      "metadata": {},
      "outputs": [],
      "source": [
        "evaluating_performance(triplet_squeezeNet_v2, dm)"
      ]
    }
  ],
  "metadata": {
    "accelerator": "GPU",
    "colab": {
      "name": "main.ipynb",
      "provenance": []
    },
    "interpreter": {
      "hash": "7b5afb9c6c69ce826c7b3420d962c361055e44e7f6b101c54e3065067bcff4ff"
    },
    "kernelspec": {
      "display_name": "Python 3.9.9 ('venv': venv)",
      "language": "python",
      "name": "python3"
    },
    "language_info": {
      "codemirror_mode": {
        "name": "ipython",
        "version": 3
      },
      "file_extension": ".py",
      "mimetype": "text/x-python",
      "name": "python",
      "nbconvert_exporter": "python",
      "pygments_lexer": "ipython3",
      "version": "3.9.9"
    },
    "orig_nbformat": 4
  },
  "nbformat": 4,
  "nbformat_minor": 0
}
