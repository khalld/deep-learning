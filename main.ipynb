{
  "cells": [
    {
      "cell_type": "markdown",
      "metadata": {
        "id": "5bD9cZfJOuBS"
      },
      "source": [
        "### Import libraries"
      ]
    },
    {
      "cell_type": "code",
      "execution_count": 1,
      "metadata": {
        "id": "uVwMz27kyG1F"
      },
      "outputs": [],
      "source": [
        "from libs.Dataset import TripletTrashbinDataModule\n",
        "from libs.Model import TripletNetworkTask, evaluating_performance\n",
        "from torch import nn\n",
        "from torchvision.models import squeezenet1_1\n",
        "import torch\n",
        "import pytorch_lightning as pl\n",
        "from torchvision.models import squeezenet1_1\n",
        "from torch import nn\n",
        "import torch\n",
        "from pytorch_lightning.loggers import TensorBoardLogger\n",
        "from pytorch_lightning.callbacks import progress\n",
        "from torchvision.models import squeezenet1_1\n",
        "from torch import nn\n",
        "import torch\n",
        "# or to ignore all warnings that could be false positives\n",
        "import warnings\n",
        "warnings.filterwarnings(\"ignore\")\n",
        "from pytorch_lightning.utilities.warnings import PossibleUserWarning\n",
        "warnings.filterwarnings(\"ignore\", category=PossibleUserWarning)"
      ]
    },
    {
      "cell_type": "code",
      "execution_count": 2,
      "metadata": {
        "id": "Mayw3PYEOuBU"
      },
      "outputs": [],
      "source": [
        "class_dict = {\n",
        "    0: 'empty',\n",
        "    1: 'half',\n",
        "    2: 'full'\n",
        "}\n",
        "\n",
        "data_img_size = 224\n",
        "data_batch_size = 256\n",
        "# otherwise, return warning\n",
        "n_workers = 0  # os.cpu_count()"
      ]
    },
    {
      "cell_type": "markdown",
      "metadata": {},
      "source": [
        "Load del dataModule"
      ]
    },
    {
      "cell_type": "code",
      "execution_count": 3,
      "metadata": {},
      "outputs": [],
      "source": [
        "dm = TripletTrashbinDataModule(img_size=data_img_size,num_workers=n_workers)\n",
        "# dm.prepare_data()\n",
        "dm.setup()"
      ]
    },
    {
      "cell_type": "markdown",
      "metadata": {
        "id": "1hyaLA21yG1G"
      },
      "source": [
        "### Pre-execution"
      ]
    },
    {
      "cell_type": "code",
      "execution_count": 4,
      "metadata": {},
      "outputs": [],
      "source": [
        "squeezeNet = squeezenet1_1(pretrained=True)\n",
        "squeezeNet.classifier = nn.Identity()"
      ]
    },
    {
      "cell_type": "markdown",
      "metadata": {},
      "source": [
        "Dimensione delle feature richieste dal modello <b>TODO: scrivi meglio</b>"
      ]
    },
    {
      "cell_type": "code",
      "execution_count": 5,
      "metadata": {},
      "outputs": [
        {
          "data": {
            "text/plain": [
              "torch.Size([1, 86528])"
            ]
          },
          "execution_count": 5,
          "metadata": {},
          "output_type": "execute_result"
        }
      ],
      "source": [
        "squeezeNet(torch.zeros(1,3,data_img_size,data_img_size)).shape"
      ]
    },
    {
      "cell_type": "code",
      "execution_count": 5,
      "metadata": {},
      "outputs": [],
      "source": [
        "triplet_squeezeNet = TripletNetworkTask(squeezeNet, lr=0.002, batch_size=data_batch_size) # parto dal LR trovato nel precedente studio"
      ]
    },
    {
      "cell_type": "markdown",
      "metadata": {},
      "source": [
        "Utilizzando le funzioni di libreria di pytorch_lighting controllo la dimensione del batch <b>SCRIVI MEGLIO</b>"
      ]
    },
    {
      "cell_type": "code",
      "execution_count": 7,
      "metadata": {},
      "outputs": [
        {
          "name": "stderr",
          "output_type": "stream",
          "text": [
            "GPU available: False, used: False\n",
            "TPU available: False, using: 0 TPU cores\n",
            "IPU available: False, using: 0 IPUs\n",
            "HPU available: False, using: 0 HPUs\n",
            "Batch size 2 succeeded, trying batch size 4\n",
            "Batch size 4 succeeded, trying batch size 8\n",
            "Batch size 8 succeeded, trying batch size 16\n",
            "Batch size 16 succeeded, trying batch size 32\n",
            "Batch size 32 succeeded, trying batch size 64\n",
            "Batch size 64 succeeded, trying batch size 128\n",
            "Batch size 128 succeeded, trying batch size 256\n",
            "Batch size 256 succeeded, trying batch size 512\n",
            "Batch size 512 succeeded, trying batch size 1024\n",
            "Batch size 1024 succeeded, trying batch size 2048\n",
            "Batch size 2048 succeeded, trying batch size 4096\n",
            "Batch size 4096 succeeded, trying batch size 8192\n",
            "Batch size 6600 succeeded, trying batch size 13200\n",
            "Finished batch size finder, will continue with full run using batch size 6600\n",
            "Restoring states from the checkpoint path at /Users/danilo/GitHub/deep-learning/.scale_batch_size_cd046314-3d33-42b7-8bb2-55d987f7354e.ckpt\n"
          ]
        },
        {
          "data": {
            "text/plain": [
              "{'scale_batch_size': 6600}"
            ]
          },
          "execution_count": 7,
          "metadata": {},
          "output_type": "execute_result"
        }
      ],
      "source": [
        "trainer = pl.Trainer(auto_scale_batch_size=\"power\", max_epochs=-1)\n",
        "trainer.tune(triplet_squeezeNet, datamodule=dm)"
      ]
    },
    {
      "cell_type": "markdown",
      "metadata": {},
      "source": [
        "Utilizzando la funzione di libreria di pytorch lighting vedo qual è il migliore LR <b>SCRIVI MEGLIO</b>"
      ]
    },
    {
      "cell_type": "code",
      "execution_count": 8,
      "metadata": {},
      "outputs": [
        {
          "name": "stderr",
          "output_type": "stream",
          "text": [
            "GPU available: False, used: False\n",
            "TPU available: False, using: 0 TPU cores\n",
            "IPU available: False, using: 0 IPUs\n",
            "HPU available: False, using: 0 HPUs\n"
          ]
        },
        {
          "data": {
            "application/vnd.jupyter.widget-view+json": {
              "model_id": "d172ef3e7caf4df48d585a644b95ff36",
              "version_major": 2,
              "version_minor": 0
            },
            "text/plain": [
              "Finding best initial lr:   0%|          | 0/100 [00:00<?, ?it/s]"
            ]
          },
          "metadata": {},
          "output_type": "display_data"
        },
        {
          "name": "stderr",
          "output_type": "stream",
          "text": [
            "LR finder stopped early after 56 steps due to diverging loss.\n",
            "Restoring states from the checkpoint path at /Users/danilo/GitHub/deep-learning/.lr_find_fef24b37-73d2-41af-9971-1de88345f9fe.ckpt\n",
            "Learning rate set to 7.585775750291837e-08\n"
          ]
        },
        {
          "data": {
            "text/plain": [
              "{'lr_find': <pytorch_lightning.tuner.lr_finder._LRFinder at 0x1078dc280>}"
            ]
          },
          "execution_count": 8,
          "metadata": {},
          "output_type": "execute_result"
        }
      ],
      "source": [
        "trainer = pl.Trainer(auto_lr_find=True)\n",
        "lr_finder = trainer.tune(triplet_squeezeNet, datamodule=dm)\n",
        "# TODO: trova il modo di fare il grafico del LR trovato!\n",
        "# triplet_mobileNet.hparams.lr = new_lr # TODO: da verificare se si deve fare così o col costruttore\n",
        "# TODO: SOStituisci il LR\n",
        "lr_finder\n"
      ]
    },
    {
      "cell_type": "code",
      "execution_count": 9,
      "metadata": {},
      "outputs": [],
      "source": [
        "import dill\n",
        "dill.dump_session('backup_session_1.pkl')\n"
      ]
    },
    {
      "cell_type": "markdown",
      "metadata": {},
      "source": [
        "### Training con loss A"
      ]
    },
    {
      "cell_type": "markdown",
      "metadata": {},
      "source": [
        "Valuto le performance prima del training"
      ]
    },
    {
      "cell_type": "code",
      "execution_count": null,
      "metadata": {},
      "outputs": [],
      "source": [
        "# TODO: Instanzio nuovamente il TripletNetworkTask con batch_size e lr in base al risultato di sopra ^ "
      ]
    },
    {
      "cell_type": "code",
      "execution_count": null,
      "metadata": {},
      "outputs": [],
      "source": [
        "evaluating_performance(triplet_squeezeNet, dm, data_batch_size)"
      ]
    },
    {
      "cell_type": "markdown",
      "metadata": {},
      "source": [
        "Alleno il modello per 10 epoche con loss A"
      ]
    },
    {
      "cell_type": "code",
      "execution_count": null,
      "metadata": {},
      "outputs": [],
      "source": [
        "logger = TensorBoardLogger(\"models/logs\", name=\"triplet_squeezeNet_v1\")\n",
        "\n",
        "trainer = pl.Trainer(gpus=0,\n",
        "                    max_epochs=10,\n",
        "                    callbacks=[progress.TQDMProgressBar()],\n",
        "                    logger=logger,\n",
        "                    accelerator=\"auto\",\n",
        "                    )\n",
        "\n",
        "trainer.fit(model=triplet_squeezeNet, datamodule=dm)\n",
        "trainer.save_checkpoint('models/triplet_squeezeNet_v1_{}_batch.ckpt'.format(data_batch_size) )\n",
        "torch.save(trainer.model.state_dict(), \"models/triplet_squeezeNet_v1_{}_batch.pth\")\n"
      ]
    },
    {
      "cell_type": "markdown",
      "metadata": {},
      "source": [
        "Valuto le performance ottenute"
      ]
    },
    {
      "cell_type": "code",
      "execution_count": null,
      "metadata": {},
      "outputs": [],
      "source": [
        "evaluating_performance(triplet_squeezeNet, dm, data_batch_size)"
      ]
    },
    {
      "cell_type": "markdown",
      "metadata": {},
      "source": [
        "#### Valuto con B\n",
        "\n",
        "Devo fare di nuovo l'esecuzione del batch e del lr con V2 ????? SI!"
      ]
    }
  ],
  "metadata": {
    "accelerator": "GPU",
    "colab": {
      "name": "main.ipynb",
      "provenance": []
    },
    "interpreter": {
      "hash": "7b5afb9c6c69ce826c7b3420d962c361055e44e7f6b101c54e3065067bcff4ff"
    },
    "kernelspec": {
      "display_name": "Python 3.9.9 ('venv': venv)",
      "language": "python",
      "name": "python3"
    },
    "language_info": {
      "codemirror_mode": {
        "name": "ipython",
        "version": 3
      },
      "file_extension": ".py",
      "mimetype": "text/x-python",
      "name": "python",
      "nbconvert_exporter": "python",
      "pygments_lexer": "ipython3",
      "version": "3.9.9"
    },
    "orig_nbformat": 4
  },
  "nbformat": 4,
  "nbformat_minor": 0
}
