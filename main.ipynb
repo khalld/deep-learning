{
 "cells": [
  {
   "cell_type": "code",
   "execution_count": null,
   "metadata": {},
   "outputs": [],
   "source": [
    "from libs.Dataset import *\n",
    "\n",
    "# TODO: tutto il progetto qui !!!\n",
    "\n",
    "\n",
    "dm = TrashbinDataModule()\n",
    "dm.setup()\n",
    "dm.prepare_data()\n",
    "# dm.setup(stage=\"fit\")\n",
    "# model = CustomModel()\n",
    "# # model = Model(num_classes=dm.num_classes, width=dm.width, vocab=dm.vocab)\n",
    "# trainer = pl.Trainer(max_epochs=1)\n",
    "# trainer.fit(model, dm)"
   ]
  }
 ],
 "metadata": {
  "interpreter": {
   "hash": "7b5afb9c6c69ce826c7b3420d962c361055e44e7f6b101c54e3065067bcff4ff"
  },
  "kernelspec": {
   "display_name": "Python 3.9.9 ('venv': venv)",
   "language": "python",
   "name": "python3"
  },
  "language_info": {
   "name": "python",
   "version": "3.9.9"
  },
  "orig_nbformat": 4
 },
 "nbformat": 4,
 "nbformat_minor": 2
}
