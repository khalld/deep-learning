{
  "cells": [
    {
      "cell_type": "markdown",
      "metadata": {
        "id": "5bD9cZfJOuBS"
      },
      "source": [
        "# Triplet Trashbin Classifier \n",
        "\n",
        "## Import libraries and main variables\n",
        "\n",
        "Notebook di presentazione dello studio della realizzazione di una rete Triplet utilizzando `pytorch-lighting`"
      ]
    },
    {
      "cell_type": "code",
      "execution_count": 1,
      "metadata": {
        "id": "uVwMz27kyG1F"
      },
      "outputs": [],
      "source": [
        "from libs.Dataset import TripletTrashbinDataModule\n",
        "from libs.Model import TripletNetwork, TripletNetworkV2, evaluating_performance\n",
        "from torchvision.models import squeezenet1_1\n",
        "import torch\n",
        "from torch import nn\n",
        "import pytorch_lightning as pl\n",
        "from pytorch_lightning.loggers import TensorBoardLogger\n",
        "from pytorch_lightning.callbacks import progress\n",
        "from os.path import join\n",
        "import warnings # or to ignore all warnings that could be false positives\n",
        "warnings.filterwarnings(\"ignore\")\n",
        "from pytorch_lightning.utilities.warnings import PossibleUserWarning\n",
        "warnings.filterwarnings(\"ignore\", category=PossibleUserWarning)"
      ]
    },
    {
      "cell_type": "code",
      "execution_count": 2,
      "metadata": {
        "id": "Mayw3PYEOuBU"
      },
      "outputs": [],
      "source": [
        "data_img_size = 224\n",
        "data_batch_size = 256\n",
        "# otherwise, return warning\n",
        "n_workers = 0  # os.cpu_count()\n",
        "LOGS_FOLDER = \"logs\"\n",
        "MAIN_MODELS_FOLDER = \"models\"\n",
        "MAX_EPOCHS = 31\n",
        "\n",
        "dm = TripletTrashbinDataModule(img_size=data_img_size,num_workers=n_workers)\n",
        "dm.setup()\n",
        "\n",
        "dm_v2 = TripletTrashbinDataModule(img_size=data_img_size,num_workers=n_workers, trb_train_csv=\"triplet_training_v2.csv\", trb_val_csv=\"triplet_validation_v2.csv\", trb_test_csv=\"triplet_test_v2.csv\")\n",
        "dm_v2.setup()\n",
        "\n",
        "dm_v3 = TripletTrashbinDataModule(img_size=data_img_size,num_workers=n_workers, trb_train_csv=\"triplet_training_v3.csv\", trb_val_csv=\"triplet_validation_v3.csv\", trb_test_csv=\"triplet_test_v3.csv\")\n",
        "dm_v3.setup()\n",
        "\n"
      ]
    },
    {
      "cell_type": "markdown",
      "metadata": {
        "id": "1hyaLA21yG1G"
      },
      "source": [
        "Adatto SqueezeNet, per farlo funzionare come feature extractor, sostituendo il classificatore con il modulo Identity che ritornerà l'input senza alcuna manipolazione."
      ]
    },
    {
      "cell_type": "code",
      "execution_count": 5,
      "metadata": {},
      "outputs": [
        {
          "data": {
            "text/plain": [
              "torch.Size([1, 86528])"
            ]
          },
          "execution_count": 5,
          "metadata": {},
          "output_type": "execute_result"
        }
      ],
      "source": [
        "squeezeNet = squeezenet1_1(pretrained=True)\n",
        "squeezeNet.classifier = nn.Identity()\n",
        "\n",
        "squeezeNet(torch.zeros(1,3,data_img_size,data_img_size)).shape"
      ]
    },
    {
      "cell_type": "markdown",
      "metadata": {},
      "source": [
        "## Finding best parameters\n",
        "\n",
        "Imposto il learning rate con quello trovato nella precedente report"
      ]
    },
    {
      "cell_type": "code",
      "execution_count": 6,
      "metadata": {},
      "outputs": [],
      "source": [
        "tripletNetwork = TripletNetwork(squeezeNet, lr=0.002, batch_size=data_batch_size)"
      ]
    },
    {
      "cell_type": "markdown",
      "metadata": {},
      "source": [
        "Batch size finder"
      ]
    },
    {
      "cell_type": "code",
      "execution_count": 7,
      "metadata": {},
      "outputs": [
        {
          "name": "stderr",
          "output_type": "stream",
          "text": [
            "GPU available: False, used: False\n",
            "TPU available: False, using: 0 TPU cores\n",
            "IPU available: False, using: 0 IPUs\n",
            "HPU available: False, using: 0 HPUs\n",
            "Batch size 2 succeeded, trying batch size 4\n",
            "Batch size 4 succeeded, trying batch size 8\n",
            "Batch size 8 succeeded, trying batch size 16\n",
            "Batch size 16 succeeded, trying batch size 32\n",
            "Batch size 32 succeeded, trying batch size 64\n",
            "Batch size 64 succeeded, trying batch size 128\n",
            "Batch size 128 succeeded, trying batch size 256\n",
            "Batch size 256 succeeded, trying batch size 512\n",
            "Batch size 512 succeeded, trying batch size 1024\n",
            "Batch size 1024 succeeded, trying batch size 2048\n",
            "Batch size 2048 succeeded, trying batch size 4096\n",
            "Batch size 4096 succeeded, trying batch size 8192\n",
            "Batch size 6600 succeeded, trying batch size 13200\n",
            "Finished batch size finder, will continue with full run using batch size 6600\n",
            "Restoring states from the checkpoint path at /Users/danilo/GitHub/deep-learning/.scale_batch_size_cd046314-3d33-42b7-8bb2-55d987f7354e.ckpt\n"
          ]
        },
        {
          "data": {
            "text/plain": [
              "{'scale_batch_size': 6600}"
            ]
          },
          "execution_count": 7,
          "metadata": {},
          "output_type": "execute_result"
        }
      ],
      "source": [
        "trainer = pl.Trainer(auto_scale_batch_size=\"power\", max_epochs=-1)\n",
        "trainer.tune(tripletNetwork, datamodule=dm)"
      ]
    },
    {
      "cell_type": "markdown",
      "metadata": {},
      "source": [
        "Learning rate finder"
      ]
    },
    {
      "cell_type": "code",
      "execution_count": 7,
      "metadata": {},
      "outputs": [
        {
          "name": "stderr",
          "output_type": "stream",
          "text": [
            "GPU available: False, used: False\n",
            "TPU available: False, using: 0 TPU cores\n",
            "IPU available: False, using: 0 IPUs\n",
            "HPU available: False, using: 0 HPUs\n"
          ]
        },
        {
          "data": {
            "application/vnd.jupyter.widget-view+json": {
              "model_id": "4eab34f9616442128eb7454076864119",
              "version_major": 2,
              "version_minor": 0
            },
            "text/plain": [
              "Finding best initial lr:   0%|          | 0/100 [00:00<?, ?it/s]"
            ]
          },
          "metadata": {},
          "output_type": "display_data"
        },
        {
          "name": "stderr",
          "output_type": "stream",
          "text": [
            "LR finder stopped early after 50 steps due to diverging loss.\n",
            "Restoring states from the checkpoint path at /Users/danilo/GitHub/triplet-trashbin-classifier/.lr_find_d07c4002-f70a-49de-bfd2-97a2aa460a37.ckpt\n",
            "Learning rate set to 7.585775750291837e-08\n"
          ]
        },
        {
          "data": {
            "text/plain": [
              "{'lr_find': <pytorch_lightning.tuner.lr_finder._LRFinder at 0x139b93940>}"
            ]
          },
          "execution_count": 7,
          "metadata": {},
          "output_type": "execute_result"
        }
      ],
      "source": [
        "trainer = pl.Trainer(auto_lr_find=True)\n",
        "lr_finder = trainer.tune(tripletNetwork, datamodule=dm)\n",
        "lr_finder"
      ]
    },
    {
      "cell_type": "markdown",
      "metadata": {},
      "source": [
        "## Models\n",
        "\n",
        "Loading models from checkpoint and visualize plot. Evaluating classification"
      ]
    },
    {
      "cell_type": "markdown",
      "metadata": {},
      "source": [
        "### Triplet Margin Loss"
      ]
    },
    {
      "cell_type": "code",
      "execution_count": 3,
      "metadata": {},
      "outputs": [
        {
          "name": "stderr",
          "output_type": "stream",
          "text": [
            "GPU available: False, used: False\n",
            "TPU available: False, using: 0 TPU cores\n",
            "IPU available: False, using: 0 IPUs\n",
            "HPU available: False, using: 0 HPUs\n",
            "Restoring states from the checkpoint path at models/tn_TripletMarginLoss_v2-epoch-30.ckpt\n",
            "Loaded model weights from checkpoint at models/tn_TripletMarginLoss_v2-epoch-30.ckpt\n"
          ]
        },
        {
          "data": {
            "application/vnd.jupyter.widget-view+json": {
              "model_id": "1bd7962da7f246478d7c0b2bfc5d154e",
              "version_major": 2,
              "version_minor": 0
            },
            "text/plain": [
              "Validation: 0it [00:00, ?it/s]"
            ]
          },
          "metadata": {},
          "output_type": "display_data"
        },
        {
          "name": "stdout",
          "output_type": "stream",
          "text": [
            "────────────────────────────────────────────────────────────────────────────────────────────────────────────────────────\n",
            "     Validate metric           DataLoader 0\n",
            "────────────────────────────────────────────────────────────────────────────────────────────────────────────────────────\n",
            "       valid/loss            1.383855938911438\n",
            "────────────────────────────────────────────────────────────────────────────────────────────────────────────────────────\n"
          ]
        },
        {
          "data": {
            "text/plain": [
              "[{'valid/loss': 1.383855938911438}]"
            ]
          },
          "execution_count": 3,
          "metadata": {},
          "output_type": "execute_result"
        }
      ],
      "source": [
        "ckpt = join(MAIN_MODELS_FOLDER, \"tn_TripletMarginLoss_v2-epoch-30.ckpt\")\n",
        "\n",
        "tripletNetwork_tml = TripletNetwork.load_from_checkpoint(checkpoint_path=ckpt) \n",
        "\n",
        "# logger_tml = TensorBoardLogger(\"models/logs\", name=\"tripletNetwork_TripletMarginLoss\")\n",
        "\n",
        "trainer = pl.Trainer(gpus=0,\n",
        "                    max_epochs=MAX_EPOCHS,\n",
        "                    callbacks=[progress.TQDMProgressBar()],\n",
        "#                   logger=logger_tml,\n",
        "                    accelerator=\"auto\",\n",
        "                    devices=1 # recommended for validation\n",
        "                    )\n",
        "\n",
        "trainer.validate(model=tripletNetwork_tml, ckpt_path=ckpt, datamodule=dm)"
      ]
    },
    {
      "cell_type": "code",
      "execution_count": 3,
      "metadata": {},
      "outputs": [
        {
          "name": "stderr",
          "output_type": "stream",
          "text": [
            "GPU available: False, used: False\n",
            "TPU available: False, using: 0 TPU cores\n",
            "IPU available: False, using: 0 IPUs\n",
            "HPU available: False, using: 0 HPUs\n",
            "Restoring states from the checkpoint path at models/tn_TripletMarginLoss_v2-epoch-30.ckpt\n",
            "Loaded model weights from checkpoint at models/tn_TripletMarginLoss_v2-epoch-30.ckpt\n"
          ]
        },
        {
          "data": {
            "application/vnd.jupyter.widget-view+json": {
              "model_id": "78cf184bd40d499ca8549e59143b24f3",
              "version_major": 2,
              "version_minor": 0
            },
            "text/plain": [
              "Validation: 0it [00:00, ?it/s]"
            ]
          },
          "metadata": {},
          "output_type": "display_data"
        },
        {
          "name": "stdout",
          "output_type": "stream",
          "text": [
            "────────────────────────────────────────────────────────────────────────────────────────────────────────────────────────\n",
            "     Validate metric           DataLoader 0\n",
            "────────────────────────────────────────────────────────────────────────────────────────────────────────────────────────\n",
            "       valid/loss            1.289524793624878\n",
            "────────────────────────────────────────────────────────────────────────────────────────────────────────────────────────\n"
          ]
        },
        {
          "data": {
            "text/plain": [
              "[{'valid/loss': 1.289524793624878}]"
            ]
          },
          "execution_count": 3,
          "metadata": {},
          "output_type": "execute_result"
        }
      ],
      "source": [
        "ckpt = join(MAIN_MODELS_FOLDER, \"tn_TripletMarginLoss_v2-epoch-30.ckpt\")\n",
        "\n",
        "tripletNetwork_tml = TripletNetwork.load_from_checkpoint(checkpoint_path=ckpt) \n",
        "\n",
        "# logger_tml = TensorBoardLogger(\"models/logs\", name=\"tripletNetwork_TripletMarginLoss\")\n",
        "\n",
        "trainer = pl.Trainer(gpus=0,\n",
        "                    max_epochs=MAX_EPOCHS,\n",
        "                    callbacks=[progress.TQDMProgressBar()],\n",
        "#                   logger=logger_tml,\n",
        "                    accelerator=\"auto\",\n",
        "                    devices=1 # recommended for validation\n",
        "                    )\n",
        "\n",
        "trainer.validate(model=tripletNetwork_tml, ckpt_path=ckpt, datamodule=dm_v2)"
      ]
    },
    {
      "cell_type": "code",
      "execution_count": null,
      "metadata": {},
      "outputs": [],
      "source": [
        "evaluating_performance(tripletNetwork_tml, dm)"
      ]
    },
    {
      "cell_type": "markdown",
      "metadata": {},
      "source": [
        "### Triplet Margin with Distance Loss"
      ]
    },
    {
      "cell_type": "code",
      "execution_count": 5,
      "metadata": {},
      "outputs": [
        {
          "name": "stderr",
          "output_type": "stream",
          "text": [
            "GPU available: False, used: False\n",
            "TPU available: False, using: 0 TPU cores\n",
            "IPU available: False, using: 0 IPUs\n",
            "HPU available: False, using: 0 HPUs\n",
            "Restoring states from the checkpoint path at models/tn_TripletMarginWithDistanceLoss_v2-epoch-30.ckpt\n",
            "Loaded model weights from checkpoint at models/tn_TripletMarginWithDistanceLoss_v2-epoch-30.ckpt\n"
          ]
        },
        {
          "data": {
            "application/vnd.jupyter.widget-view+json": {
              "model_id": "8131e8b18db741a1bfc3e599a3e65a5c",
              "version_major": 2,
              "version_minor": 0
            },
            "text/plain": [
              "Validation: 0it [00:00, ?it/s]"
            ]
          },
          "metadata": {},
          "output_type": "display_data"
        },
        {
          "name": "stdout",
          "output_type": "stream",
          "text": [
            "────────────────────────────────────────────────────────────────────────────────────────────────────────────────────────\n",
            "     Validate metric           DataLoader 0\n",
            "────────────────────────────────────────────────────────────────────────────────────────────────────────────────────────\n",
            "       valid/loss           1.3823999166488647\n",
            "────────────────────────────────────────────────────────────────────────────────────────────────────────────────────────\n"
          ]
        },
        {
          "data": {
            "text/plain": [
              "[{'valid/loss': 1.3823999166488647}]"
            ]
          },
          "execution_count": 5,
          "metadata": {},
          "output_type": "execute_result"
        }
      ],
      "source": [
        "ckpt = join(MAIN_MODELS_FOLDER, \"tn_TripletMarginWithDistanceLoss_v2-epoch-30.ckpt\")\n",
        "\n",
        "tripletNetwork_tmwdl = TripletNetworkV2.load_from_checkpoint(checkpoint_path=ckpt) \n",
        "\n",
        "# logger_tml = TensorBoardLogger(\"models/logs\", name=\"tripletNetwork_TripletMarginLoss\")\n",
        "\n",
        "trainer = pl.Trainer(gpus=0,\n",
        "                    max_epochs=MAX_EPOCHS,\n",
        "                    callbacks=[progress.TQDMProgressBar()],\n",
        "#                   logger=logger_tml,\n",
        "                    accelerator=\"auto\",\n",
        "                    devices=1 # recommended for validation\n",
        "                    )\n",
        "\n",
        "trainer.validate(model=tripletNetwork_tmwdl, ckpt_path=ckpt, datamodule=dm)"
      ]
    },
    {
      "cell_type": "code",
      "execution_count": null,
      "metadata": {},
      "outputs": [],
      "source": [
        "evaluating_performance(tripletNetwork_tml, dm)"
      ]
    }
  ],
  "metadata": {
    "accelerator": "GPU",
    "colab": {
      "name": "main.ipynb",
      "provenance": []
    },
    "kernelspec": {
      "display_name": "Python 3.9.9 ('venv': venv)",
      "language": "python",
      "name": "python3"
    },
    "language_info": {
      "codemirror_mode": {
        "name": "ipython",
        "version": 3
      },
      "file_extension": ".py",
      "mimetype": "text/x-python",
      "name": "python",
      "nbconvert_exporter": "python",
      "pygments_lexer": "ipython3",
      "version": "3.9.9"
    },
    "orig_nbformat": 4,
    "vscode": {
      "interpreter": {
        "hash": "3c806291bea0a14141cba80b32d142e0fc2f039a8132bd529e5d42bc8aecaeaf"
      }
    }
  },
  "nbformat": 4,
  "nbformat_minor": 0
}
