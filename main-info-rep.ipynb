{
 "cells": [
  {
   "cell_type": "code",
   "execution_count": 1,
   "metadata": {},
   "outputs": [],
   "source": [
    "from libs.Dataset import *\n",
    "from libs.SiameseNetwork import *\n",
    "import matplotlib.pyplot as plt\n",
    "import dill # allow to save notebook session, useful for test https://towardsdatascience.com/how-to-restore-your-jupyter-notebook-session-dfeadbd86d65\n",
    "from pytorch_lightning.loggers import TensorBoardLogger\n",
    "from pytorch_lightning.callbacks import Callback, progress\n",
    "from torch.optim import SGD\n",
    "from torch import nn\n",
    "import torch\n"
   ]
  },
  {
   "cell_type": "code",
   "execution_count": 2,
   "metadata": {},
   "outputs": [],
   "source": [
    "# load datamodule sessions\n",
    "dm = \"datamodule\"\n",
    "dill.load_session('notebook_env_28.db')"
   ]
  },
  {
   "cell_type": "code",
   "execution_count": 3,
   "metadata": {},
   "outputs": [
    {
     "name": "stdout",
     "output_type": "stream",
     "text": [
      "Dims datamodel: (3, 28, 28)\n"
     ]
    },
    {
     "name": "stderr",
     "output_type": "stream",
     "text": [
      "/Users/danilo/GitHub/deep-learning/venv/lib/python3.9/site-packages/pytorch_lightning/core/datamodule.py:170: LightningDeprecationWarning: DataModule property `dims` was deprecated in v1.5 and will be removed in v1.7.\n",
      "  rank_zero_deprecation(\"DataModule property `dims` was deprecated in v1.5 and will be removed in v1.7.\")\n"
     ]
    }
   ],
   "source": [
    "print(\"Dims datamodel: {}\".format(dm.dims))"
   ]
  },
  {
   "cell_type": "markdown",
   "metadata": {},
   "source": [
    "### Valuto prestazioni con modelli prima del training"
   ]
  },
  {
   "cell_type": "code",
   "execution_count": 4,
   "metadata": {},
   "outputs": [
    {
     "name": "stderr",
     "output_type": "stream",
     "text": [
      "/Users/danilo/GitHub/deep-learning/venv/lib/python3.9/site-packages/torch/nn/functional.py:780: UserWarning: Note that order of the arguments: ceil_mode and return_indices will changeto match the args list in nn.MaxPool2d in a future release.\n",
      "  warnings.warn(\"Note that order of the arguments: ceil_mode and return_indices will change\"\n"
     ]
    },
    {
     "name": "stdout",
     "output_type": "stream",
     "text": [
      "SqueezeNet1_1: Dim feature vector for:  torch.Size([1, 3, 224, 224]) -> torch.Size([1, 86528])\n",
      "MobileNetV2: Dim feature vector for: torch.Size([1, 3, 224, 224]) -> torch.Size([1, 1280])\n"
     ]
    }
   ],
   "source": [
    "from torchvision.models import mobilenet_v2\n",
    "from torchvision.models import squeezenet1_1\n",
    "\n",
    "# uso mobileNetV2 come primo esempio\n",
    "mobilenet_fe = mobilenet_v2(pretrained=True)\n",
    "mobilenet_fe.features[0] = nn.Conv2d(3,32,5)\n",
    "# rimuovo classificatore finale, imposto il modulo identità al posto del classificatore\n",
    "mobilenet_fe.classifier = nn.Identity()\n",
    "\n",
    "\n",
    "squezenet_fe = squeezenet1_1(pretrained=True)\n",
    "# rimuovo classificatore finale, imposto il modulo identità al posto del classificatore\n",
    "squezenet_fe.classifier = nn.Identity()\n",
    "\n",
    "\n",
    "\n",
    "print(\"SqueezeNet1_1: Dim feature vector for:  {} -> {}\".format(torch.zeros(1,3,224,224).shape, squezenet_fe(torch.zeros(1,3,224,224)).shape))\n",
    "print(\"MobileNetV2: Dim feature vector for: {} -> {}\".format(torch.zeros(1,3,224,224).shape, mobilenet_fe(torch.zeros(1,3,224,224)).shape))"
   ]
  },
  {
   "cell_type": "code",
   "execution_count": 5,
   "metadata": {},
   "outputs": [
    {
     "name": "stderr",
     "output_type": "stream",
     "text": [
      "  0%|          | 0/83 [00:00<?, ?it/s]"
     ]
    }
   ],
   "source": [
    "from tqdm import tqdm\n",
    "\n",
    "\n",
    "def extract_rgb_rep(loader):\n",
    "    \"\"\" Baseline che effettua ricerca nearest neighbor sui valori RGB grezzi.\n",
    "    (ricerca l'immagine visivamente più simile)\"\"\"\n",
    "    representations, labels = [], []\n",
    "    for batch in tqdm(loader, total=len(loader)):\n",
    "        print(batch.size())\n",
    "        print(batch.shape())\n",
    "        print(batch)\n",
    "        representations.append(batch[0].view(batch[0].shape[0],-1).numpy())\n",
    "        labels.append(batch[1])\n",
    "\n",
    "    return np.concatenate(representations), np.concatenate(labels)\n",
    "\n",
    "\n",
    "sample_dl = dm.val_dataloader()\n",
    "\n",
    "repres, labels = extract_rgb_rep(sample_dl)\n"
   ]
  }
 ],
 "metadata": {
  "interpreter": {
   "hash": "7b5afb9c6c69ce826c7b3420d962c361055e44e7f6b101c54e3065067bcff4ff"
  },
  "kernelspec": {
   "display_name": "Python 3.9.9 ('venv': venv)",
   "language": "python",
   "name": "python3"
  },
  "language_info": {
   "codemirror_mode": {
    "name": "ipython",
    "version": 3
   },
   "file_extension": ".py",
   "mimetype": "text/x-python",
   "name": "python",
   "nbconvert_exporter": "python",
   "pygments_lexer": "ipython3",
   "version": "3.9.9"
  },
  "orig_nbformat": 4
 },
 "nbformat": 4,
 "nbformat_minor": 2
}
