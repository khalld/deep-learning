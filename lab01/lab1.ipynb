{
 "cells": [
  {
   "cell_type": "code",
   "execution_count": 11,
   "metadata": {},
   "outputs": [],
   "source": [
    "import torch\n",
    "import random\n",
    "import numpy as np\n",
    "from torch import nn\n",
    "from torchvision.datasets import MNIST, FashionMNIST\n",
    "from torchvision import transforms\n",
    "from torch.utils.data import DataLoader\n",
    "from os.path import join\n",
    "from sklearn.metrics import accuracy_score\n",
    "from torch.optim import SGD\n",
    "import numpy as np\n",
    "import pytorch_lightning as pl\n",
    "from pytorch_lightning.loggers import TensorBoardLogger\n",
    "from torchvision.utils import make_grid\n",
    "from sklearn.manifold import TSNE\n",
    "from matplotlib import pyplot as plt\n",
    "from sklearn.neighbors import KNeighborsClassifier\n",
    "from tqdm import tqdm\n",
    "import lib\n",
    "\n",
    "NUM_EPOCHS = 5\n",
    "GPUS = 0\n",
    "NUM_WORKERS = 0\n",
    "\n",
    "# imposto i seed per riproducibilità\n",
    "np.random.seed(0)\n",
    "torch.manual_seed(0)\n",
    "random.seed(0)\n",
    "\n",
    "mean = 0.1307\n",
    "std = 0.3081"
   ]
  },
  {
   "cell_type": "markdown",
   "metadata": {},
   "source": [
    "### 1.1 PyTorch Lighting - MLP\n",
    "\n",
    "Implemento un [MLP](https://en.wikipedia.org/wiki/Multilayer_perceptron) per classificare le immagini di MNIST"
   ]
  },
  {
   "cell_type": "code",
   "execution_count": 2,
   "metadata": {},
   "outputs": [],
   "source": [
    "transform = transforms.Compose([transforms.ToTensor(),\n",
    "                                transforms.Normalize((mean,),(std,)),\n",
    "                                # transforms.Lambda(lambda x: x.view(-1))\n",
    "                                torch.flatten\n",
    "                                ])\n",
    "\n",
    "# Definiamo dataset e data loader\n",
    "mnist_train = MNIST(root='data',train=True, download=True, transform=transform)\n",
    "mnist_val = MNIST(root='data',train=False, download=True, transform=transform)\n",
    "mnist_test = MNIST(root='data',train=False, download=True, transform=transform)\n",
    "\n",
    "# Carico il dataloader\n",
    "mnist_train_loader = DataLoader(mnist_train, batch_size=256, num_workers=NUM_WORKERS, shuffle=True)\n",
    "mnist_val_loader = DataLoader(mnist_val, batch_size=256, num_workers=NUM_WORKERS)\n",
    "mnist_test_loader = DataLoader(mnist_test, batch_size=256, num_workers=NUM_WORKERS)"
   ]
  },
  {
   "cell_type": "code",
   "execution_count": 3,
   "metadata": {},
   "outputs": [],
   "source": [
    "criterion = nn.CrossEntropyLoss()\n",
    "\n",
    "class MLPClassifier(pl.LightningModule):\n",
    "    def __init__(self, in_features, hidden_units, out_classes):\n",
    "        super(MLPClassifier, self).__init__()\n",
    "        self.hidden_layer = nn.Linear(in_features, hidden_units)\n",
    "        self.activation = nn.Tanh()\n",
    "        self.output_layer = nn.Linear(hidden_units, out_classes)\n",
    "\n",
    "    def forward(self,x):\n",
    "        hidden_representation = self.hidden_layer(x)\n",
    "        hidden_representation = self.activation(hidden_representation)\n",
    "        scores = self.output_layer(hidden_representation)\n",
    "        return scores\n",
    "\n",
    "    # questo metodo definisce l'optimizer\n",
    "    def configure_optimizers(self):\n",
    "        optimizer = SGD(self.parameters(), lr=0.001)\n",
    "        return optimizer\n",
    "\n",
    "    # questo metodo definisce come effettuare ogni singolo step di training\n",
    "    def training_step(self, train_batch, batch_idx):\n",
    "        x, y = train_batch\n",
    "        output = self.forward(x)\n",
    "        loss = criterion(output,y)\n",
    "        self.log('train/loss', loss)\n",
    "        return loss\n",
    "\n",
    "    # questo metodo definisce come effettuare ogni singolo step di validation\n",
    "    def validation_step(self, val_batch, batch_idx):\n",
    "        x, y = val_batch\n",
    "        output = self.forward(x)\n",
    "        acc = accuracy_score(y.cpu(), output.cpu().topk(1).indices)\n",
    "        # self.log('val/accuracy', acc)\n",
    "        return {\n",
    "            'predictions': output.cpu().topk(1).indices,\n",
    "            'labels': y.cpu()\n",
    "        }\n",
    "    \n",
    "    def validation_epoch_end(self, outputs):\n",
    "        #concateniamo tutte le predizioni\n",
    "        predictions = np.concatenate([o['predictions'] for o in outputs])\n",
    "        #concateniamo tutte le etichette\n",
    "        labels = np.concatenate([o['labels'] for o in outputs])\n",
    "        acc = accuracy_score(labels, predictions)\n",
    "        self.log('val/accuracy', acc)"
   ]
  },
  {
   "cell_type": "code",
   "execution_count": null,
   "metadata": {},
   "outputs": [],
   "source": [
    "# definiamo il modello\n",
    "model = MLPClassifier(784, 512, 10)\n",
    "\n",
    "# logger\n",
    "logger = TensorBoardLogger(\"tb_logs\", name=\"MLP\")\n",
    "\n",
    "# definiamo un oggetto trainer\n",
    "trainer = pl.Trainer(max_epochs=5, gpus=0, logger=logger)#, gpus=1) #gpus=1 indica che vogliamo usare una sola gpu\n",
    "\n",
    "# effettuiamo il fit\n",
    "trainer.fit(model, mnist_train_loader, mnist_val_loader)\n",
    "\n",
    "# effettuiamo il passaggio di validation per visualizzare le performance finali di val idation\n",
    "trainer.validate(model, mnist_val_loader)"
   ]
  },
  {
   "cell_type": "code",
   "execution_count": 4,
   "metadata": {},
   "outputs": [
    {
     "name": "stdout",
     "output_type": "stream",
     "text": [
      "TensorFlow installation not found - running with reduced feature set.\n",
      "\n",
      "NOTE: Using experimental fast data loading logic. To disable, pass\n",
      "    \"--load_fast=false\" and report issues on GitHub. More details:\n",
      "    https://github.com/tensorflow/tensorboard/issues/4784\n",
      "\n",
      "Serving TensorBoard on localhost; to expose to the network, use a proxy or pass --bind_all\n",
      "TensorBoard 2.7.0 at http://localhost:6006/ (Press CTRL+C to quit)\n",
      "^C\n"
     ]
    }
   ],
   "source": [
    "!tensorboard --logdir tb_logs"
   ]
  },
  {
   "cell_type": "markdown",
   "metadata": {},
   "source": [
    "### Autoencoder Fully Connected\n",
    "\n",
    "Definiamo a questo punto un autoencoder fully connected che prenda in input le immagini sotto forma di vettori di $784$ unità, le mappi in un codice di $128$ unità e ricostruisca l'input di $784$ unità:"
   ]
  },
  {
   "cell_type": "code",
   "execution_count": 3,
   "metadata": {},
   "outputs": [],
   "source": [
    "mnist_train_loader = DataLoader(mnist_train, batch_size=1024, num_workers=NUM_WORKERS, shuffle=True)\n",
    "mnist_test_loader = DataLoader(mnist_test, batch_size=1024, num_workers=NUM_WORKERS)"
   ]
  },
  {
   "cell_type": "code",
   "execution_count": 4,
   "metadata": {},
   "outputs": [
    {
     "name": "stderr",
     "output_type": "stream",
     "text": [
      "GPU available: False, used: False\n",
      "TPU available: False, using: 0 TPU cores\n",
      "IPU available: False, using: 0 IPUs\n",
      "\n",
      "  | Name      | Type       | Params\n",
      "-----------------------------------------\n",
      "0 | encoder   | Sequential | 233 K \n",
      "1 | decoder   | Sequential | 234 K \n",
      "2 | criterion | MSELoss    | 0     \n",
      "-----------------------------------------\n",
      "468 K     Trainable params\n",
      "0         Non-trainable params\n",
      "468 K     Total params\n",
      "1.873     Total estimated model params size (MB)\n"
     ]
    },
    {
     "name": "stdout",
     "output_type": "stream",
     "text": [
      "Validation sanity check:   0%|          | 0/2 [00:00<?, ?it/s]"
     ]
    },
    {
     "name": "stderr",
     "output_type": "stream",
     "text": [
      "/Users/danilo/GitHub/deep-learning/venv/lib/python3.7/site-packages/pytorch_lightning/trainer/data_loading.py:117: UserWarning: The dataloader, val_dataloader 0, does not have many workers which may be a bottleneck. Consider increasing the value of the `num_workers` argument` (try 12 which is the number of cpus on this machine) in the `DataLoader` init to improve performance.\n",
      "  f\"The dataloader, {name}, does not have many workers which may be a bottleneck.\"\n"
     ]
    },
    {
     "name": "stdout",
     "output_type": "stream",
     "text": [
      "                                                                      "
     ]
    },
    {
     "name": "stderr",
     "output_type": "stream",
     "text": [
      "/Users/danilo/GitHub/deep-learning/venv/lib/python3.7/site-packages/pytorch_lightning/trainer/data_loading.py:117: UserWarning: The dataloader, train_dataloader, does not have many workers which may be a bottleneck. Consider increasing the value of the `num_workers` argument` (try 12 which is the number of cpus on this machine) in the `DataLoader` init to improve performance.\n",
      "  f\"The dataloader, {name}, does not have many workers which may be a bottleneck.\"\n"
     ]
    },
    {
     "name": "stdout",
     "output_type": "stream",
     "text": [
      "Epoch 4: 100%|██████████| 69/69 [00:11<00:00,  5.88it/s, loss=0.526, v_num=1]\n"
     ]
    }
   ],
   "source": [
    "logger = TensorBoardLogger(\"tb_logs\", name=\"autoencoder\")\n",
    "mnist_autoencoder = lib.AutoencoderFC()\n",
    "trainer = pl.Trainer(max_epochs=NUM_EPOCHS, gpus=GPUS, logger=logger)\n",
    "trainer.fit(mnist_autoencoder, mnist_train_loader, mnist_test_loader)"
   ]
  },
  {
   "cell_type": "markdown",
   "metadata": {},
   "source": [
    "Visto il log di tensorboard so che è possibile costruire gli input.<br>\n",
    "Adesso è necessario verificare che i codici estratti dal modello siano in effetti delle buone rappresentazioni degli input."
   ]
  },
  {
   "cell_type": "code",
   "execution_count": 18,
   "metadata": {},
   "outputs": [
    {
     "name": "stdout",
     "output_type": "stream",
     "text": [
      "(10000, 128) (10000,)\n"
     ]
    }
   ],
   "source": [
    "codes, labels = lib.extract_codes(mnist_autoencoder, mnist_test_loader)\n",
    "print(codes.shape, labels.shape)"
   ]
  },
  {
   "cell_type": "markdown",
   "metadata": {},
   "source": [
    "Per visualizzare i dati, utilizzeremo la tecnica di visualizzazione dei dati chiamata TSNE (https://it.wikipedia.org/wiki/T- distributed_stochastic_neighbor_embedding) che permette di proiettare i dati in uno spazio a dimensione ridotta preservando le distanze relative tra gli elementi. In particolare, utilizzeremo questa tecnica per proiettare i codici di $128$ unità su due dimensioni che plotteremo sullo spazio 2D. Prima però selezioniamo un sottoinsieme dei codici da visualizzare:"
   ]
  },
  {
   "cell_type": "code",
   "execution_count": 24,
   "metadata": {},
   "outputs": [
    {
     "name": "stderr",
     "output_type": "stream",
     "text": [
      "/Users/danilo/GitHub/deep-learning/venv/lib/python3.7/site-packages/sklearn/manifold/_t_sne.py:783: FutureWarning: The default initialization in TSNE will change from 'random' to 'pca' in 1.2.\n",
      "  FutureWarning,\n",
      "/Users/danilo/GitHub/deep-learning/venv/lib/python3.7/site-packages/sklearn/manifold/_t_sne.py:793: FutureWarning: The default learning rate in TSNE will change from 200.0 to 'auto' in 1.2.\n",
      "  FutureWarning,\n"
     ]
    },
    {
     "data": {
      "image/png": "[encoded data removed]",
      "text/plain": [
       "<Figure size 576x432 with 1 Axes>"
      ]
     },
     "metadata": {
      "needs_background": "light"
     },
     "output_type": "display_data"
    }
   ],
   "source": [
    "selected_codes = np.random.choice(len(codes),1000)\n",
    "codes = codes[selected_codes]\n",
    "labels = labels[selected_codes]\n",
    "\n",
    "tsne = TSNE(2)\n",
    "codes_tsne=tsne.fit_transform(codes)\n",
    "\n",
    "# plotto i codici nello spazio 2D distinguendoli per colore\n",
    "plt.figure(figsize=(8,6))\n",
    "\n",
    "for c in np.unique(labels):\n",
    "        plt.plot(codes_tsne[labels==c, 0], codes_tsne[labels==c, 1], 'o', label = c)\n",
    "plt.legend()\n",
    "plt.show()"
   ]
  },
  {
   "cell_type": "markdown",
   "metadata": {},
   "source": [
    "### Autoencoders basato su convoluzioni\n",
    "In questo caso il codice non sarà un vettore unidimensionale ma una mappa di feature di dimensione minore rispetto a quella in input.\n",
    "\n",
    "L'encoder sarà una CNN, con i seguenti accorgimenti:\n",
    "- Inseriremo padding nelle convoluzioni per evitare di ridurre le dimensioni delle mappe di feature. L'unica operazione che ridurrà le dimensioni delle mappe di feature è il poolin;\n",
    "- Dato che il nostro obbiettivo non è fare classificazione, utilizzeremo average pooling al posto del max pooling\n",
    "\n",
    "Il decoder sarà una CNN speculare all'encoder, con la seguente modifica:\n",
    "- Al posto dell'average pooling che riduce le dimensione dell'input di un fattore $s$, utilizzeremo un modulo di \"upsampling\" che, mediante interpolazione aumenterà le dimensioni dell'input di un fattore $s$;\n",
    "\n",
    "Utilizzeremo solo filtri $3 \\times 3$ in questo esempio.\n",
    "\n",
    "Prima di allenare il modello, dobbiamo ridefinire dataset e data loaders evitando di introdurre l'operazione flatten ( `lambda x: x.view(-1)`), in modo da caricare immagini $28 \\times 28$ invece di vettori di $784$ elementi:"
   ]
  },
  {
   "cell_type": "code",
   "execution_count": 14,
   "metadata": {},
   "outputs": [
    {
     "name": "stdout",
     "output_type": "stream",
     "text": [
      "torch.Size([1024, 1, 28, 28])\n"
     ]
    }
   ],
   "source": [
    "transform = transforms.Compose([transforms.ToTensor(),\n",
    "                                transforms.Normalize((mean,),(std))\n",
    "                                ])\n",
    "\n",
    "mnist_train = MNIST(root='mnist',train=True, download=True, transform=transform)\n",
    "mnist_test = MNIST(root='mnist',train=False, download=True, transform=transform)\n",
    "\n",
    "mnist_train_loader = DataLoader(mnist_train, batch_size=1024, num_workers=NUM_WORKERS, shuffle=True)\n",
    "mnist_test_loader = DataLoader(mnist_test, batch_size=1024, num_workers=NUM_WORKERS)\n",
    "\n",
    "# controllo che la shape sia corettamente 28x28\n",
    "for a in mnist_train_loader:\n",
    "    print(a[0].shape)\n",
    "    break"
   ]
  },
  {
   "cell_type": "code",
   "execution_count": 15,
   "metadata": {},
   "outputs": [
    {
     "name": "stderr",
     "output_type": "stream",
     "text": [
      "GPU available: False, used: False\n",
      "TPU available: False, using: 0 TPU cores\n",
      "IPU available: False, using: 0 IPUs\n",
      "\n",
      "  | Name      | Type       | Params\n",
      "-----------------------------------------\n",
      "0 | encoder   | Sequential | 1.6 K \n",
      "1 | decoder   | Sequential | 1.6 K \n",
      "2 | criterion | MSELoss    | 0     \n",
      "-----------------------------------------\n",
      "3.2 K     Trainable params\n",
      "0         Non-trainable params\n",
      "3.2 K     Total params\n",
      "0.013     Total estimated model params size (MB)\n"
     ]
    },
    {
     "name": "stdout",
     "output_type": "stream",
     "text": [
      "Validation sanity check:   0%|          | 0/2 [00:00<?, ?it/s]"
     ]
    },
    {
     "name": "stderr",
     "output_type": "stream",
     "text": [
      "/Users/danilo/GitHub/deep-learning/venv/lib/python3.7/site-packages/pytorch_lightning/trainer/data_loading.py:117: UserWarning: The dataloader, val_dataloader 0, does not have many workers which may be a bottleneck. Consider increasing the value of the `num_workers` argument` (try 12 which is the number of cpus on this machine) in the `DataLoader` init to improve performance.\n",
      "  f\"The dataloader, {name}, does not have many workers which may be a bottleneck.\"\n"
     ]
    },
    {
     "name": "stdout",
     "output_type": "stream",
     "text": [
      "                                                                      "
     ]
    },
    {
     "name": "stderr",
     "output_type": "stream",
     "text": [
      "/Users/danilo/GitHub/deep-learning/venv/lib/python3.7/site-packages/pytorch_lightning/trainer/data_loading.py:117: UserWarning: The dataloader, train_dataloader, does not have many workers which may be a bottleneck. Consider increasing the value of the `num_workers` argument` (try 12 which is the number of cpus on this machine) in the `DataLoader` init to improve performance.\n",
      "  f\"The dataloader, {name}, does not have many workers which may be a bottleneck.\"\n"
     ]
    },
    {
     "name": "stdout",
     "output_type": "stream",
     "text": [
      "Epoch 4: 100%|██████████| 69/69 [00:35<00:00,  1.97it/s, loss=0.142, v_num=1]\n"
     ]
    }
   ],
   "source": [
    "logger = TensorBoardLogger(\"tb_logs\", name=\"mnist_conv_autoencoder\")\n",
    "mnist_conv_autoencoder = lib.AutoencoderConv()\n",
    "trainer = pl.Trainer(max_epochs=NUM_EPOCHS, gpus=GPUS, logger=logger)\n",
    "trainer.fit(mnist_conv_autoencoder, mnist_train_loader, mnist_test_loader)"
   ]
  },
  {
   "cell_type": "code",
   "execution_count": 7,
   "metadata": {},
   "outputs": [
    {
     "name": "stdout",
     "output_type": "stream",
     "text": [
      "(10000, 4, 7, 7) (10000,)\n",
      "(1000, 196)\n"
     ]
    },
    {
     "name": "stderr",
     "output_type": "stream",
     "text": [
      "/Users/danilo/GitHub/deep-learning/venv/lib/python3.7/site-packages/sklearn/manifold/_t_sne.py:783: FutureWarning: The default initialization in TSNE will change from 'random' to 'pca' in 1.2.\n",
      "  FutureWarning,\n",
      "/Users/danilo/GitHub/deep-learning/venv/lib/python3.7/site-packages/sklearn/manifold/_t_sne.py:793: FutureWarning: The default learning rate in TSNE will change from 200.0 to 'auto' in 1.2.\n",
      "  FutureWarning,\n"
     ]
    },
    {
     "data": {
      "image/png": "[encoded data removed]",
      "text/plain": [
       "<Figure size 576x432 with 1 Axes>"
      ]
     },
     "metadata": {
      "needs_background": "light"
     },
     "output_type": "display_data"
    }
   ],
   "source": [
    "lib.make_TSNE(mnist_conv_autoencoder, mnist_test_loader)"
   ]
  },
  {
   "cell_type": "markdown",
   "metadata": {},
   "source": [
    "### Denoising autoencoders\n",
    "\n",
    "Perturbare l'immagine di input chiedendo al modello di ricostruire comunque l'immagine non perturbata. Il principale scopo è evitare che il modello apprenda una funzione identità, che non sarebbe sufficiente a ricostruire l'immagine non perturbata. L'implementazione di un denoising autoencoder è molto semplice: è sufficiente inserire un livello di dropout prima dell'input. Il dropout infatti metterà a zero un certo punto scelti casualmente."
   ]
  },
  {
   "cell_type": "code",
   "execution_count": 3,
   "metadata": {},
   "outputs": [
    {
     "name": "stderr",
     "output_type": "stream",
     "text": [
      "GPU available: False, used: False\n",
      "TPU available: False, using: 0 TPU cores\n",
      "IPU available: False, using: 0 IPUs\n",
      "\n",
      "  | Name      | Type       | Params\n",
      "-----------------------------------------\n",
      "0 | encoder   | Sequential | 1.6 K \n",
      "1 | decoder   | Sequential | 1.6 K \n",
      "2 | criterion | MSELoss    | 0     \n",
      "-----------------------------------------\n",
      "3.2 K     Trainable params\n",
      "0         Non-trainable params\n",
      "3.2 K     Total params\n",
      "0.013     Total estimated model params size (MB)\n"
     ]
    },
    {
     "name": "stdout",
     "output_type": "stream",
     "text": [
      "                                                                      "
     ]
    },
    {
     "name": "stderr",
     "output_type": "stream",
     "text": [
      "/Users/danilo/GitHub/deep-learning/venv/lib/python3.7/site-packages/pytorch_lightning/trainer/data_loading.py:117: UserWarning: The dataloader, train_dataloader, does not have many workers which may be a bottleneck. Consider increasing the value of the `num_workers` argument` (try 12 which is the number of cpus on this machine) in the `DataLoader` init to improve performance.\n",
      "  f\"The dataloader, {name}, does not have many workers which may be a bottleneck.\"\n"
     ]
    },
    {
     "name": "stdout",
     "output_type": "stream",
     "text": [
      "Epoch 4: 100%|██████████| 69/69 [00:33<00:00,  2.06it/s, loss=0.466, v_num=1]\n"
     ]
    }
   ],
   "source": [
    "logger = TensorBoardLogger(\"tb_logs\", name=\"mnist_denoising_conv_autoencoder\")\n",
    "\n",
    "transform = transforms.Compose([transforms.ToTensor(),\n",
    "                                transforms.Normalize((mean,),(std))\n",
    "                                ])\n",
    "\n",
    "mnist_train = MNIST(root='mnist',train=True, download=True, transform=transform)\n",
    "mnist_test = MNIST(root='mnist',train=False, download=True, transform=transform)\n",
    "\n",
    "mnist_train_loader = DataLoader(mnist_train, batch_size=1024, num_workers=NUM_WORKERS, shuffle=True)\n",
    "mnist_test_loader = DataLoader(mnist_test, batch_size=1024, num_workers=NUM_WORKERS)\n",
    "\n",
    "mnist_denoising_conv_autoencoder = lib.DenoisingConvAutoencoder()\n",
    "trainer = pl.Trainer(max_epochs=NUM_EPOCHS, gpus=GPUS, logger=logger)\n",
    "trainer.fit(mnist_denoising_conv_autoencoder, mnist_train_loader, mnist_test_loader)"
   ]
  },
  {
   "cell_type": "code",
   "execution_count": 4,
   "metadata": {},
   "outputs": [
    {
     "name": "stdout",
     "output_type": "stream",
     "text": [
      "(10000, 4, 7, 7) (10000,)\n",
      "(1000, 196)\n"
     ]
    },
    {
     "name": "stderr",
     "output_type": "stream",
     "text": [
      "/Users/danilo/GitHub/deep-learning/venv/lib/python3.7/site-packages/sklearn/manifold/_t_sne.py:783: FutureWarning: The default initialization in TSNE will change from 'random' to 'pca' in 1.2.\n",
      "  FutureWarning,\n",
      "/Users/danilo/GitHub/deep-learning/venv/lib/python3.7/site-packages/sklearn/manifold/_t_sne.py:793: FutureWarning: The default learning rate in TSNE will change from 200.0 to 'auto' in 1.2.\n",
      "  FutureWarning,\n"
     ]
    },
    {
     "data": {
      "image/png": "[encoded data removed]",
      "text/plain": [
       "<Figure size 576x432 with 1 Axes>"
      ]
     },
     "metadata": {
      "needs_background": "light"
     },
     "output_type": "display_data"
    }
   ],
   "source": [
    "lib.make_TSNE(mnist_denoising_conv_autoencoder, mnist_test_loader)"
   ]
  },
  {
   "cell_type": "markdown",
   "metadata": {},
   "source": [
    "### Sparse autoencoders\n",
    "\n",
    "Un altro modo per evitare l'autoencoder apprenda semplicemente la funzione identità, consiste nel limitare le forme che il codice interno all'autoencoder può assumere. In particolare, gli sparse autoencoders impongono un vincolo di sparsità sulle unità del codice. Ciò può essere fatto in diversi modi. Noi vedremo come farlo sommando alla loss una penalità L1.\n",
    "Se $\\hat{\\mathbf{z}}$ è il codice e $N$ è la dimensione del codice, il vincolo di sparsità può essere espresso come: $\\sum_i^N |\\hat{z}_i-s|$, dove $s$ è una piccola costante che indica il parametro di sparsità.\n",
    "La loss finale è duqnue:\n",
    "$L(x, \\hat{x}, \\hat{z}) = MSE(x, M(x)) + \\beta \\sum_i^N |\\hat{z}_i-s|$\n",
    "Dove $x$ è l'immagine di input, $\\hat x$ è quella ricostruita e $\\beta$ è un parametro che regola il contributo delle due loss. Vediamo come modificare la definizione dell'autoencoder vista in precedenza per introdurre il vincolo di sparsità:"
   ]
  },
  {
   "cell_type": "code",
   "execution_count": 2,
   "metadata": {},
   "outputs": [
    {
     "name": "stdout",
     "output_type": "stream",
     "text": [
      "torch.Size([1024, 1, 28, 28])\n"
     ]
    }
   ],
   "source": [
    "transform = transforms.Compose([transforms.ToTensor(),\n",
    "                                transforms.Normalize((mean,),(std))\n",
    "                                ])\n",
    "\n",
    "mnist_train = MNIST(root='mnist',train=True, download=True, transform=transform)\n",
    "mnist_test = MNIST(root='mnist',train=False, download=True, transform=transform)\n",
    "\n",
    "mnist_train_loader = DataLoader(mnist_train, batch_size=1024, num_workers=NUM_WORKERS, shuffle=True)\n",
    "mnist_test_loader = DataLoader(mnist_test, batch_size=1024, num_workers=NUM_WORKERS)\n",
    "\n",
    "# controllo che la shape sia corettamente 28x28\n",
    "for a in mnist_train_loader:\n",
    "    print(a[0].shape)\n",
    "    break"
   ]
  },
  {
   "cell_type": "code",
   "execution_count": 3,
   "metadata": {},
   "outputs": [
    {
     "name": "stderr",
     "output_type": "stream",
     "text": [
      "GPU available: False, used: False\n",
      "TPU available: False, using: 0 TPU cores\n",
      "IPU available: False, using: 0 IPUs\n",
      "\n",
      "  | Name      | Type       | Params\n",
      "-----------------------------------------\n",
      "0 | encoder   | Sequential | 1.6 K \n",
      "1 | decoder   | Sequential | 1.6 K \n",
      "2 | criterion | MSELoss    | 0     \n",
      "3 | l1        | L1Loss     | 0     \n",
      "-----------------------------------------\n",
      "3.2 K     Trainable params\n",
      "0         Non-trainable params\n",
      "3.2 K     Total params\n",
      "0.013     Total estimated model params size (MB)\n"
     ]
    },
    {
     "name": "stdout",
     "output_type": "stream",
     "text": [
      "Validation sanity check:   0%|          | 0/2 [00:00<?, ?it/s]"
     ]
    },
    {
     "name": "stderr",
     "output_type": "stream",
     "text": [
      "/Users/danilo/GitHub/deep-learning/venv/lib/python3.7/site-packages/pytorch_lightning/trainer/data_loading.py:117: UserWarning: The dataloader, val_dataloader 0, does not have many workers which may be a bottleneck. Consider increasing the value of the `num_workers` argument` (try 12 which is the number of cpus on this machine) in the `DataLoader` init to improve performance.\n",
      "  f\"The dataloader, {name}, does not have many workers which may be a bottleneck.\"\n"
     ]
    },
    {
     "name": "stdout",
     "output_type": "stream",
     "text": [
      "                                                                      "
     ]
    },
    {
     "name": "stderr",
     "output_type": "stream",
     "text": [
      "/Users/danilo/GitHub/deep-learning/venv/lib/python3.7/site-packages/pytorch_lightning/trainer/data_loading.py:117: UserWarning: The dataloader, train_dataloader, does not have many workers which may be a bottleneck. Consider increasing the value of the `num_workers` argument` (try 12 which is the number of cpus on this machine) in the `DataLoader` init to improve performance.\n",
      "  f\"The dataloader, {name}, does not have many workers which may be a bottleneck.\"\n"
     ]
    },
    {
     "name": "stdout",
     "output_type": "stream",
     "text": [
      "Epoch 4: 100%|██████████| 69/69 [00:32<00:00,  2.14it/s, loss=0.222, v_num=1]\n"
     ]
    }
   ],
   "source": [
    "logger = TensorBoardLogger(\"tb_logs\", name=\"mnist_sparse_conv_autoencoder\")\n",
    "mnist_sparse_conv_autoencoder = lib.SparseConvAutoencoder()\n",
    "trainer = pl.Trainer(max_epochs=NUM_EPOCHS, gpus=GPUS, logger=logger)\n",
    "trainer.fit(mnist_sparse_conv_autoencoder, mnist_train_loader, mnist_test_loader)"
   ]
  },
  {
   "cell_type": "code",
   "execution_count": 4,
   "metadata": {},
   "outputs": [
    {
     "name": "stdout",
     "output_type": "stream",
     "text": [
      "(10000, 4, 7, 7) (10000,)\n",
      "(1000, 196)\n"
     ]
    },
    {
     "name": "stderr",
     "output_type": "stream",
     "text": [
      "/Users/danilo/GitHub/deep-learning/venv/lib/python3.7/site-packages/sklearn/manifold/_t_sne.py:783: FutureWarning: The default initialization in TSNE will change from 'random' to 'pca' in 1.2.\n",
      "  FutureWarning,\n",
      "/Users/danilo/GitHub/deep-learning/venv/lib/python3.7/site-packages/sklearn/manifold/_t_sne.py:793: FutureWarning: The default learning rate in TSNE will change from 200.0 to 'auto' in 1.2.\n",
      "  FutureWarning,\n"
     ]
    },
    {
     "data": {
      "image/png": "[encoded data removed]",
      "text/plain": [
       "<Figure size 576x432 with 1 Axes>"
      ]
     },
     "metadata": {
      "needs_background": "light"
     },
     "output_type": "display_data"
    }
   ],
   "source": [
    "lib.make_TSNE(mnist_sparse_conv_autoencoder, mnist_test_loader)"
   ]
  },
  {
   "cell_type": "markdown",
   "metadata": {},
   "source": [
    "### Applicazioni\n",
    "Negli esempi visti finora, abbiamo verificato se gli autoencoder allenati fossero in grado di ricostruire correttamente l'input e costruire uno spazio di rappresentazione in cui elementi della stessa classe fossero vicini. Vediamo adesso alcuni esempi di applicazioni di autoencoder.\n",
    "Vedremo i seguenti esempi di applicazione"
   ]
  },
  {
   "cell_type": "markdown",
   "metadata": {},
   "source": [
    "#### 1. Unsupervised representation learning\n",
    "\n",
    "Un autoencoder permette di apprendere rappresentazioni dell'input in maniera non supervisionata (non sono necessarie le etichette per il training). Per verificare che le rappresentazioni apprese sono in effetti buone per la classificazione, proveremo ad allenare un semplice classificatore nearest neighbor utilizando un piccolo sottoinsieme di 100 codici estratti. Se la rappresentazione è sufficientemente buona, il classificatore avrà buone performance anche con un insieme limitati di dati. Confronteremo questo approccio con un nearest neighbor applicato direttamente alle immagini (intesi come valori dei pixel).\n",
    "\n",
    "\n",
    "Iniziamo estraendo i codici di training e di test usando l'ultimo modello allenato. Selezioneremo un sottoinsieme di 100 esempi di training presi casualmente."
   ]
  },
  {
   "cell_type": "markdown",
   "metadata": {},
   "source": [
    "Alleno un classificatore 1-NN per visualizzare l'accuracy sul test-set"
   ]
  },
  {
   "cell_type": "code",
   "execution_count": 8,
   "metadata": {},
   "outputs": [],
   "source": [
    "# rifaccio alcuni passaggi della parte precedente perché devo estrarre i codici prima senza plottare il risultato\n",
    "\n",
    "codes, labels = lib.extract_codes(mnist_sparse_conv_autoencoder, mnist_test_loader)\n",
    "\n",
    "selected_codes = np.random.choice(len(codes),1000)\n",
    "codes = codes.reshape(codes.shape[0],-1)\n",
    "codes = codes[selected_codes]\n",
    "labels = labels[selected_codes]"
   ]
  },
  {
   "cell_type": "code",
   "execution_count": 9,
   "metadata": {},
   "outputs": [],
   "source": [
    "codes_train, labels_train = lib.extract_codes(mnist_sparse_conv_autoencoder, mnist_train_loader)\n",
    "codes_train = codes_train.reshape(codes_train.shape[0],-1)\n",
    "\n",
    "selected_codes = np.random.choice(len(codes),100)\n",
    "codes_train = codes[selected_codes]\n",
    "labels_train = labels[selected_codes]\n",
    "\n",
    "codes_test, labels_test = lib.extract_codes(mnist_sparse_conv_autoencoder, mnist_test_loader)\n",
    "codes_test = codes_test.reshape(codes_test.shape[0],-1)"
   ]
  },
  {
   "cell_type": "code",
   "execution_count": 10,
   "metadata": {},
   "outputs": [
    {
     "data": {
      "text/plain": [
       "0.7361"
      ]
     },
     "execution_count": 10,
     "metadata": {},
     "output_type": "execute_result"
    }
   ],
   "source": [
    "knn = KNeighborsClassifier(n_neighbors=1)\n",
    "knn.fit(codes_train, labels_train)\n",
    "knn.score(codes_test, labels_test)"
   ]
  },
  {
   "cell_type": "code",
   "execution_count": 11,
   "metadata": {},
   "outputs": [
    {
     "data": {
      "text/plain": [
       "0.649"
      ]
     },
     "execution_count": 11,
     "metadata": {},
     "output_type": "execute_result"
    }
   ],
   "source": [
    "images_train = np.vstack([mnist_train[i][0].view(-1) for i in selected_codes])\n",
    "labels_train = np.hstack([mnist_train[i][1] for i in selected_codes])\n",
    "\n",
    "images_test = np.vstack([mnist_test[i][0].view(-1) for i in range(len(mnist_test))])\n",
    "labels_test = np.hstack([mnist_test[i][1] for i in range(len(mnist_test))])\n",
    "\n",
    "knn = KNeighborsClassifier(n_neighbors=1)\n",
    "knn.fit(images_train, labels_train)\n",
    "knn.score(images_test, labels_test)"
   ]
  },
  {
   "cell_type": "markdown",
   "metadata": {},
   "source": [
    "#### 2. Dimensionality reduction\n",
    "\n",
    "Gli autoencoder permettono anche di ridurre la dimensionalità dei dati di input. Infatti, dato che l'autoencoder è capace di ricostruire le immagini di input dai codici, è possibile conservare i codici in luogo delle immagini riducendone la dimensione e risparmiando spazio. La riduzione della dimensione può essere anche utile per ridurre i requisiti computazionali di un possibile algoritmo che lavorerà sui codici piuttosto che sulle immagini. Vediamo con un semplice esempio quanto spazio possiamo risparmiare conservando i codici invece delle immagini.\n",
    "Iniziamo confrontando lo spazio occupato in memoria in numero di byte dal test set quando conservato come immagini e quando conservato come codici. Utilizzeremo il primo autoencoder, che ha dei codici più piccoli:"
   ]
  },
  {
   "cell_type": "code",
   "execution_count": 5,
   "metadata": {},
   "outputs": [
    {
     "data": {
      "text/plain": [
       "torch.Size([1024, 784])"
      ]
     },
     "execution_count": 5,
     "metadata": {},
     "output_type": "execute_result"
    }
   ],
   "source": [
    "for batch in mnist_test_loader:\n",
    "    break\n",
    "\n",
    "batch[0].shape"
   ]
  },
  {
   "cell_type": "code",
   "execution_count": 6,
   "metadata": {},
   "outputs": [
    {
     "name": "stderr",
     "output_type": "stream",
     "text": [
      "[W ParallelNative.cpp:214] Warning: Cannot set number of intraop threads after parallel work has started or after set_num_threads call when using native parallel backend (function set_num_threads)\n",
      "[W ParallelNative.cpp:214] Warning: Cannot set number of intraop threads after parallel work has started or after set_num_threads call when using native parallel backend (function set_num_threads)\n"
     ]
    }
   ],
   "source": [
    "# estraiamo i codici\n",
    "transform = transforms.Compose([transforms.ToTensor(),\n",
    "                                transforms.Normalize((mean,),(std,)),\n",
    "                                torch.flatten])\n",
    "\n",
    "mnist_test = MNIST(root='mnist',train=False, download=True, transform=transform)\n",
    "mnist_test_loader = DataLoader(mnist_test, batch_size=1024, num_workers=2)\n",
    "codes_test, labels_test = lib.extract_codes(mnist_autoencoder, mnist_test_loader)\n",
    "\n",
    "#rappresentiamo le immagini a 8 bit\n",
    "mnist_test_raw = MNIST(root='mnist',train=False, download=True, transform=transforms.Compose([transforms.ToTensor(), transforms.Lambda(lambda x: x*255)]))\n",
    "\n",
    "images_test_raw = np.vstack([mnist_test_raw[i][0].view(-1) for i in range(len(mnist_test_raw))]).astype(np.uint8)"
   ]
  },
  {
   "cell_type": "code",
   "execution_count": 8,
   "metadata": {},
   "outputs": [
    {
     "name": "stdout",
     "output_type": "stream",
     "text": [
      "Dimensione occupata dalle immagini: 7840000\n",
      "Dimensione occupata dai codici: 5120000\n",
      "Rapporto di compressione: 34.69%\n"
     ]
    }
   ],
   "source": [
    "print(f\"Dimensione occupata dalle immagini: {images_test_raw.nbytes}\")\n",
    "print(f\"Dimensione occupata dai codici: {codes_test.nbytes}\")\n",
    "print(f\"Rapporto di compressione: {100-codes_test.nbytes/images_test_raw.nbytes*100:0.2f}%\")"
   ]
  },
  {
   "cell_type": "markdown",
   "metadata": {},
   "source": [
    "una volta conservati i codici, possiamo ricostruier le immagini in input usando solo il decoder"
   ]
  },
  {
   "cell_type": "code",
   "execution_count": 10,
   "metadata": {},
   "outputs": [
    {
     "data": {
      "text/plain": [
       "<matplotlib.image.AxesImage at 0x1493c0190>"
      ]
     },
     "execution_count": 10,
     "metadata": {},
     "output_type": "execute_result"
    },
    {
     "data": {
      "image/png": "[encoded data removed]",
      "text/plain": [
       "<Figure size 432x288 with 1 Axes>"
      ]
     },
     "metadata": {
      "needs_background": "light"
     },
     "output_type": "display_data"
    }
   ],
   "source": [
    "decoder = mnist_autoencoder.decoder\n",
    "\n",
    "def decode(code):\n",
    "    output_image = decoder(code)\n",
    "    #l'immagine in output è normalizzata come quelle che abbiamo passato in input #invertiamo la normalizzazione:\n",
    "    return output_image*0.3081 + 0.1307\n",
    "\n",
    "# visualizzo la ricostruzione del codice\n",
    "out_img=decode(torch.from_numpy(codes_test.copy())).reshape(-1,1,28,28)\n",
    "plt.imshow(out_img[0][0].detach().cpu(), cmap='gray')"
   ]
  },
  {
   "cell_type": "markdown",
   "metadata": {},
   "source": [
    "#### 3. Anomaly detection\n",
    "L'anomaly detection è un'altra potenziale applicazione degli autoencoder. Una volta allenato un autoencoder con immagini appartenenti a una distribuzione (es. la distribuzione delle immagini di MNIST), ci aspettiamo che esso sia molto efficace nel codificare e ricostruire queste immagini e meno efficace nel codificare e ricostruire immagini di un altro dominio.\n",
    "Vediamo ad esempio come le immagini del dataset FashionMNIST vengono ricostruite con il Convolutional Autoencoder allenato su MNIST. Iniziamo definendo il dataset FashionMNIST. Utilizzeremo le stesse trasformazioni con le quali è stato allenato il modello (e quindi media e deviazione standard di MNIST):"
   ]
  },
  {
   "cell_type": "code",
   "execution_count": 12,
   "metadata": {},
   "outputs": [
    {
     "name": "stdout",
     "output_type": "stream",
     "text": [
      "Downloading http://fashion-mnist.s3-website.eu-central-1.amazonaws.com/train-images-idx3-ubyte.gz\n",
      "Downloading http://fashion-mnist.s3-website.eu-central-1.amazonaws.com/train-images-idx3-ubyte.gz to fashion/FashionMNIST/raw/train-images-idx3-ubyte.gz\n"
     ]
    },
    {
     "name": "stderr",
     "output_type": "stream",
     "text": [
      "26422272it [00:11, 2272208.92it/s]                              \n"
     ]
    },
    {
     "name": "stdout",
     "output_type": "stream",
     "text": [
      "Extracting fashion/FashionMNIST/raw/train-images-idx3-ubyte.gz to fashion/FashionMNIST/raw\n",
      "\n",
      "Downloading http://fashion-mnist.s3-website.eu-central-1.amazonaws.com/train-labels-idx1-ubyte.gz\n",
      "Downloading http://fashion-mnist.s3-website.eu-central-1.amazonaws.com/train-labels-idx1-ubyte.gz to fashion/FashionMNIST/raw/train-labels-idx1-ubyte.gz\n"
     ]
    },
    {
     "name": "stderr",
     "output_type": "stream",
     "text": [
      "29696it [00:00, 568444.06it/s]           \n"
     ]
    },
    {
     "name": "stdout",
     "output_type": "stream",
     "text": [
      "Extracting fashion/FashionMNIST/raw/train-labels-idx1-ubyte.gz to fashion/FashionMNIST/raw\n",
      "\n",
      "Downloading http://fashion-mnist.s3-website.eu-central-1.amazonaws.com/t10k-images-idx3-ubyte.gz\n",
      "Downloading http://fashion-mnist.s3-website.eu-central-1.amazonaws.com/t10k-images-idx3-ubyte.gz to fashion/FashionMNIST/raw/t10k-images-idx3-ubyte.gz\n"
     ]
    },
    {
     "name": "stderr",
     "output_type": "stream",
     "text": [
      "4422656it [00:02, 2201374.25it/s]                             \n"
     ]
    },
    {
     "name": "stdout",
     "output_type": "stream",
     "text": [
      "Extracting fashion/FashionMNIST/raw/t10k-images-idx3-ubyte.gz to fashion/FashionMNIST/raw\n",
      "\n",
      "Downloading http://fashion-mnist.s3-website.eu-central-1.amazonaws.com/t10k-labels-idx1-ubyte.gz\n",
      "Downloading http://fashion-mnist.s3-website.eu-central-1.amazonaws.com/t10k-labels-idx1-ubyte.gz to fashion/FashionMNIST/raw/t10k-labels-idx1-ubyte.gz\n"
     ]
    },
    {
     "name": "stderr",
     "output_type": "stream",
     "text": [
      "6144it [00:00, 8270155.26it/s]          "
     ]
    },
    {
     "name": "stdout",
     "output_type": "stream",
     "text": [
      "Extracting fashion/FashionMNIST/raw/t10k-labels-idx1-ubyte.gz to fashion/FashionMNIST/raw\n",
      "\n"
     ]
    },
    {
     "name": "stderr",
     "output_type": "stream",
     "text": [
      "\n"
     ]
    }
   ],
   "source": [
    "transform = transforms.Compose([transforms.ToTensor(),transforms.Normalize((mean,), (std,))])\n",
    "\n",
    "fashion_train = FashionMNIST(root='fashion', download=True, transform=transform)\n",
    "fashion_train_loader = DataLoader(fashion_train, batch_size=1024)"
   ]
  },
  {
   "cell_type": "markdown",
   "metadata": {},
   "source": [
    "Vediamo ora un esempio di ricostruzione di una immagine di FashionMNIST. Calcoleremo anche la norma L2 tra le due immagini (input e ricostruita) per capire quanto sono dissimili:"
   ]
  },
  {
   "cell_type": "code",
   "execution_count": 16,
   "metadata": {},
   "outputs": [
    {
     "name": "stdout",
     "output_type": "stream",
     "text": [
      "Distanza fra le immagini:  20.11\n"
     ]
    },
    {
     "data": {
      "image/png": "[encoded data removed]",
      "text/plain": [
       "<Figure size 432x288 with 2 Axes>"
      ]
     },
     "metadata": {
      "needs_background": "light"
     },
     "output_type": "display_data"
    }
   ],
   "source": [
    "im_in_fashion = fashion_train[5][0]\n",
    "code, im_out_fashion = mnist_conv_autoencoder(im_in_fashion.unsqueeze(0))\n",
    "\n",
    "plt.subplot(1,2,1)\n",
    "plt.imshow(im_in_fashion.squeeze().detach(), cmap='gray')\n",
    "plt.subplot(1,2,2)\n",
    "plt.imshow(im_out_fashion.squeeze().cpu().detach(), cmap='gray')\n",
    "print(f\"Distanza fra le immagini: {(im_in_fashion.cpu()-im_out_fashion.cpu()).norm(2): 0.2f}\")"
   ]
  },
  {
   "cell_type": "code",
   "execution_count": 20,
   "metadata": {},
   "outputs": [
    {
     "name": "stdout",
     "output_type": "stream",
     "text": [
      "Distanza fra le immagini: 10.68\n"
     ]
    },
    {
     "data": {
      "image/png": "[encoded data removed]",
      "text/plain": [
       "<Figure size 432x288 with 2 Axes>"
      ]
     },
     "metadata": {
      "needs_background": "light"
     },
     "output_type": "display_data"
    }
   ],
   "source": [
    "im_in_mnist = mnist_train[7][0]\n",
    "code, im_out_mnist = mnist_conv_autoencoder(im_in_mnist.unsqueeze(0))\n",
    "plt.subplot(1,2,1)\n",
    "plt.imshow(im_in_mnist.squeeze().detach(), cmap='gray')\n",
    "plt.subplot(1,2,2)\n",
    "plt.imshow(im_out_mnist.squeeze().cpu().detach(), cmap='gray')\n",
    "print(f\"Distanza fra le immagini: {(im_in_mnist.cpu()-im_out_mnist.cpu()).norm(2):0.2f}\")"
   ]
  },
  {
   "cell_type": "markdown",
   "metadata": {},
   "source": [
    "Vediamo adesso se quanto osservato per le immagini di esempio si verifica sistematicamente o meno. Lo faremo calcolando la norma L2 media tra input e output per i due dataset:"
   ]
  },
  {
   "cell_type": "code",
   "execution_count": 22,
   "metadata": {},
   "outputs": [
    {
     "name": "stderr",
     "output_type": "stream",
     "text": [
      "100%|██████████| 59/59 [00:17<00:00,  3.43it/s]"
     ]
    },
    {
     "name": "stdout",
     "output_type": "stream",
     "text": [
      "Media delle norme L2 per FashionMNIST: 15.461126\n"
     ]
    },
    {
     "name": "stderr",
     "output_type": "stream",
     "text": [
      "\n"
     ]
    }
   ],
   "source": [
    "from tqdm import tqdm\n",
    "\n",
    "norms_fashion = []\n",
    "\n",
    "for im, _ in tqdm(fashion_train_loader):\n",
    "    _, im_out = mnist_conv_autoencoder(im)\n",
    "    n=(im-im_out.cpu()).view(im.shape[0],-1).norm(2, dim=-1)\n",
    "    norms_fashion.append(n.detach().numpy())\n",
    "\n",
    "norms_fashion = np.concatenate(norms_fashion)\n",
    "print(\"Media delle norme L2 per FashionMNIST:\",norms_fashion.mean())"
   ]
  },
  {
   "cell_type": "code",
   "execution_count": 24,
   "metadata": {},
   "outputs": [
    {
     "name": "stderr",
     "output_type": "stream",
     "text": [
      "100%|██████████| 59/59 [00:17<00:00,  3.47it/s]"
     ]
    },
    {
     "name": "stdout",
     "output_type": "stream",
     "text": [
      "Media delle norme L2 per MNIST: 10.352477\n"
     ]
    },
    {
     "name": "stderr",
     "output_type": "stream",
     "text": [
      "\n"
     ]
    }
   ],
   "source": [
    "norms_mnist=[]\n",
    "for im, _ in tqdm(mnist_train_loader):\n",
    "    _, im_out = mnist_conv_autoencoder(im)\n",
    "    n=(im-im_out.cpu()).view(im.shape[0],-1).norm(2, dim=-1)\n",
    "    norms_mnist.append(n.detach().numpy())\n",
    "norms_mnist = np.concatenate(norms_mnist)\n",
    "print(\"Media delle norme L2 per MNIST:\",norms_mnist.mean())"
   ]
  },
  {
   "cell_type": "markdown",
   "metadata": {},
   "source": [
    "Come è possibile vedere, le norme L2 per MNIST tendono ad essere più basse. Possiamo visualizzarlo anche mediante dei boxplot:"
   ]
  },
  {
   "cell_type": "code",
   "execution_count": 25,
   "metadata": {},
   "outputs": [
    {
     "data": {
      "image/png": "[encoded data removed]",
      "text/plain": [
       "<Figure size 432x288 with 1 Axes>"
      ]
     },
     "metadata": {
      "needs_background": "light"
     },
     "output_type": "display_data"
    }
   ],
   "source": [
    "plt.figure()\n",
    "plt.boxplot([norms_fashion, norms_mnist], positions=[0,1])\n",
    "plt.grid()\n",
    "plt.show()"
   ]
  },
  {
   "cell_type": "markdown",
   "metadata": {},
   "source": [
    "Se volessimo costruire un sistema di anomaly detection, potremmo semplicemente allenare un regressore logistico sulle norme L2:"
   ]
  },
  {
   "cell_type": "code",
   "execution_count": 26,
   "metadata": {},
   "outputs": [
    {
     "name": "stderr",
     "output_type": "stream",
     "text": [
      "/Users/danilo/GitHub/deep-learning/venv/lib/python3.7/site-packages/sklearn/utils/validation.py:993: DataConversionWarning: A column-vector y was passed when a 1d array was expected. Please change the shape of y to (n_samples, ), for example using ravel().\n",
      "  y = column_or_1d(y, warn=True)\n"
     ]
    },
    {
     "data": {
      "text/plain": [
       "LogisticRegression()"
      ]
     },
     "execution_count": 26,
     "metadata": {},
     "output_type": "execute_result"
    }
   ],
   "source": [
    "from sklearn.linear_model import LogisticRegression\n",
    "\n",
    "#gli elementi in input saranno tutte le norme L2\n",
    "x_train = np.concatenate([\n",
    "        norms_fashion,\n",
    "        norms_mnist\n",
    "    ]).reshape(-1,1)\n",
    "#definiamo le etichette\n",
    "y_train = np.concatenate([\n",
    "        np.ones_like(norms_fashion)*-1, #negative examples: fashion \n",
    "        np.ones_like(norms_mnist),#positive examples\n",
    "    ]).reshape(-1,1)\n",
    "lr = LogisticRegression()\n",
    "lr.fit(x_train, y_train)"
   ]
  },
  {
   "cell_type": "markdown",
   "metadata": {},
   "source": [
    "Scriviamo adesso una funzione che prende una immagine e la classifica come positivo (appartenente alla classe MNIST) o negativo (non appartenente a MNIST - anomalia):"
   ]
  },
  {
   "cell_type": "code",
   "execution_count": 27,
   "metadata": {},
   "outputs": [],
   "source": [
    "def detect_anomaly(example):\n",
    "    _, im_out = mnist_conv_autoencoder(example.unsqueeze(0))\n",
    "    return lr.predict((im_out.cpu()-example).norm(2).detach().numpy().reshape(-1,1))"
   ]
  },
  {
   "cell_type": "markdown",
   "metadata": {},
   "source": [
    "Definiamo i dataset di set e testiamo la funzione sui 1000 elementi casuali di ciascun dataset:"
   ]
  },
  {
   "cell_type": "code",
   "execution_count": 28,
   "metadata": {},
   "outputs": [],
   "source": [
    "transform = transforms.Compose([transforms.ToTensor(), transforms.Normalize((mean,), (std,))])\n",
    "mnist_test = MNIST(root='mnist',train=False, download=True, transform=transform)\n",
    "fashion_test = FashionMNIST(root='fashion', train=False, download=True, transform=transform)"
   ]
  },
  {
   "cell_type": "markdown",
   "metadata": {},
   "source": [
    "Adesso testiamo sui 1000 elementi selezionati casualmente:"
   ]
  },
  {
   "cell_type": "code",
   "execution_count": 29,
   "metadata": {},
   "outputs": [
    {
     "name": "stderr",
     "output_type": "stream",
     "text": [
      "100%|██████████| 1000/1000 [00:01<00:00, 574.34it/s]"
     ]
    },
    {
     "name": "stdout",
     "output_type": "stream",
     "text": [
      "Percentuale di elementi di MNIST classificati correttamente: 91.20%\n",
      "Percentuale di elementi di Fashion-MNIST classificati correttamente: 84.80%\n"
     ]
    },
    {
     "name": "stderr",
     "output_type": "stream",
     "text": [
      "\n"
     ]
    }
   ],
   "source": [
    "predictions_mnist = []\n",
    "predictions_fashion = []\n",
    "for i in tqdm(np.random.choice(len(mnist_test), 1000)):\n",
    "    prediction_mnist = detect_anomaly(mnist_test[i][0])\n",
    "    prediction_fashion = detect_anomaly(fashion_test[i][0])\n",
    "    predictions_mnist.append(prediction_mnist)\n",
    "    predictions_fashion.append(prediction_fashion)\n",
    "\n",
    "predictions_mnist = np.array(predictions_mnist)\n",
    "predictions_fashion = np.array(predictions_fashion)\n",
    "\n",
    "print(f\"Percentuale di elementi di MNIST classificati correttamente: {(predictions_mnist==1).mean()*100:0.2f}%\")\n",
    "print(f\"Percentuale di elementi di Fashion-MNIST classificati correttamente: {(predictions_fashion==-1).mean()*100:0.2f}%\")"
   ]
  }
 ],
 "metadata": {
  "interpreter": {
   "hash": "7b5afb9c6c69ce826c7b3420d962c361055e44e7f6b101c54e3065067bcff4ff"
  },
  "kernelspec": {
   "display_name": "Python 3.9.7 64-bit ('venv': venv)",
   "language": "python",
   "name": "python3"
  },
  "language_info": {
   "codemirror_mode": {
    "name": "ipython",
    "version": 3
   },
   "file_extension": ".py",
   "mimetype": "text/x-python",
   "name": "python",
   "nbconvert_exporter": "python",
   "pygments_lexer": "ipython3",
   "version": "3.7.12"
  },
  "orig_nbformat": 4
 },
 "nbformat": 4,
 "nbformat_minor": 2
}
