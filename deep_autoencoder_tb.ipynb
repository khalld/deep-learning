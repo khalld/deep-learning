{
  "cells": [
    {
      "cell_type": "markdown",
      "id": "858d9128",
      "metadata": {
        "id": "858d9128",
        "papermill": {
          "duration": 0.021931,
          "end_time": "2021-09-16T12:40:58.085647",
          "exception": false,
          "start_time": "2021-09-16T12:40:58.063716",
          "status": "completed"
        },
        "tags": []
      },
      "source": [
        "## Setup\n",
        "This notebook requires some packages besides pytorch-lightning."
      ]
    },
    {
      "cell_type": "code",
      "execution_count": 1,
      "id": "7358cb32",
      "metadata": {
        "execution": {
          "iopub.execute_input": "2021-09-16T12:40:58.133268Z",
          "iopub.status.busy": "2021-09-16T12:40:58.132753Z",
          "iopub.status.idle": "2021-09-16T12:40:58.135280Z",
          "shell.execute_reply": "2021-09-16T12:40:58.134801Z"
        },
        "id": "7358cb32",
        "lines_to_next_cell": 0,
        "papermill": {
          "duration": 0.02804,
          "end_time": "2021-09-16T12:40:58.135398",
          "exception": false,
          "start_time": "2021-09-16T12:40:58.107358",
          "status": "completed"
        },
        "tags": []
      },
      "outputs": [],
      "source": [
        "# ! pip install --quiet \"torch>=1.6, <1.9\" \"pytorch-lightning>=1.3\" \"torchvision\" \"seaborn\" \"torchmetrics>=0.3\" \"matplotlib\"\n",
        "# TODO: ricontrollare il translate xke devi fare vedere se normalizza tra 0 e 1 o con mean"
      ]
    },
    {
      "cell_type": "code",
      "execution_count": 2,
      "id": "52180301",
      "metadata": {
        "execution": {
          "iopub.execute_input": "2021-09-16T12:40:58.232432Z",
          "iopub.status.busy": "2021-09-16T12:40:58.231957Z",
          "iopub.status.idle": "2021-09-16T12:40:59.951493Z",
          "shell.execute_reply": "2021-09-16T12:40:59.951078Z"
        },
        "id": "52180301",
        "outputId": "20a95e41-6fd1-4c33-9082-b6f02845416f",
        "papermill": {
          "duration": 1.749593,
          "end_time": "2021-09-16T12:40:59.951608",
          "exception": false,
          "start_time": "2021-09-16T12:40:58.202015",
          "status": "completed"
        },
        "tags": []
      },
      "outputs": [
        {
          "name": "stderr",
          "output_type": "stream",
          "text": [
            "Global seed set to 42\n"
          ]
        },
        {
          "name": "stdout",
          "output_type": "stream",
          "text": [
            "Device: cpu\n"
          ]
        }
      ],
      "source": [
        "import os\n",
        "import urllib.request\n",
        "from urllib.error import HTTPError\n",
        "\n",
        "import matplotlib\n",
        "import matplotlib.pyplot as plt\n",
        "import pytorch_lightning as pl\n",
        "import seaborn as sns\n",
        "import torch\n",
        "import torch.nn as nn\n",
        "import torch.nn.functional as F\n",
        "import torch.optim as optim\n",
        "import torch.utils.data as data\n",
        "import torchvision\n",
        "from IPython.display import set_matplotlib_formats\n",
        "from pytorch_lightning.callbacks import LearningRateMonitor, ModelCheckpoint\n",
        "from torch.utils.tensorboard import SummaryWriter\n",
        "from torchvision import transforms\n",
        "from torchvision.datasets import CIFAR10\n",
        "from tqdm.notebook import tqdm\n",
        "\n",
        "\n",
        "from libs.Dataset import *\n",
        "\n",
        "# Tensorboard extension (for visualization purposes later)\n",
        "# %load_ext tensorboard\n",
        "\n",
        "# Path to the folder where the datasets are/should be downloaded (e.g. CIFAR10)\n",
        "# DATASET_PATH = os.environ.get(\"PATH_DATASETS\", \"data\")\n",
        "# # Path to the folder where the pretrained models are saved\n",
        "# CHECKPOINT_PATH = os.environ.get(\"PATH_CHECKPOINT\", \"saved_models/tutorial9\")\n",
        "\n",
        "DATASET_PATH = os.environ.get(\"PATH_DATASETS\", \"dataset\")\n",
        "# Path to the folder where the pretrained models are saved\n",
        "CHECKPOINT_PATH = os.environ.get(\"PATH_CHECKPOINT\", \"saved_models/tutorial9\")\n",
        "\n",
        "\n",
        "# Setting the seed\n",
        "pl.seed_everything(42)\n",
        "\n",
        "# Ensure that all operations are deterministic on GPU (if used) for reproducibility\n",
        "torch.backends.cudnn.determinstic = True\n",
        "torch.backends.cudnn.benchmark = False\n",
        "\n",
        "device = torch.device(\"cuda:0\") if torch.cuda.is_available() else torch.device(\"cpu\")\n",
        "print(\"Device:\", device)"
      ]
    },
    {
      "cell_type": "markdown",
      "id": "28912006",
      "metadata": {
        "id": "28912006",
        "papermill": {
          "duration": 0.021859,
          "end_time": "2021-09-16T12:40:59.996263",
          "exception": false,
          "start_time": "2021-09-16T12:40:59.974404",
          "status": "completed"
        },
        "tags": []
      },
      "source": [
        "We have 4 pretrained models that we have to download.\n",
        "Remember the adjust the variables `DATASET_PATH` and `CHECKPOINT_PATH` if needed."
      ]
    },
    {
      "cell_type": "code",
      "execution_count": 3,
      "id": "4a75be18",
      "metadata": {
        "execution": {
          "iopub.execute_input": "2021-09-16T12:41:00.045043Z",
          "iopub.status.busy": "2021-09-16T12:41:00.044569Z",
          "iopub.status.idle": "2021-09-16T12:41:00.679694Z",
          "shell.execute_reply": "2021-09-16T12:41:00.679188Z"
        },
        "id": "4a75be18",
        "outputId": "ba244e4a-00f5-4eab-cffe-d5be5bacd184",
        "papermill": {
          "duration": 0.661412,
          "end_time": "2021-09-16T12:41:00.679814",
          "exception": false,
          "start_time": "2021-09-16T12:41:00.018402",
          "status": "completed"
        },
        "tags": []
      },
      "outputs": [],
      "source": [
        "# Github URL where saved models are stored for this tutorial\n",
        "base_url = \"https://raw.githubusercontent.com/phlippe/saved_models/main/tutorial9/\"\n",
        "# Files to download\n",
        "pretrained_files = [\"cifar10_64.ckpt\", \"cifar10_128.ckpt\", \"cifar10_256.ckpt\", \"cifar10_384.ckpt\"]\n",
        "# Create checkpoint path if it doesn't exist yet\n",
        "os.makedirs(CHECKPOINT_PATH, exist_ok=True)\n",
        "\n",
        "# For each file, check whether it already exists. If not, try downloading it.\n",
        "for file_name in pretrained_files:\n",
        "    file_path = os.path.join(CHECKPOINT_PATH, file_name)\n",
        "    if not os.path.isfile(file_path):\n",
        "        file_url = base_url + file_name\n",
        "        print(\"Downloading %s...\" % file_url)\n",
        "        try:\n",
        "            urllib.request.urlretrieve(file_url, file_path)\n",
        "        except HTTPError as e:\n",
        "            print(\n",
        "                \"Something went wrong. Please try to download the files manually,\"\n",
        "                \" or contact the author with the full output including the following error:\\n\",\n",
        "                e,\n",
        "            )"
      ]
    },
    {
      "cell_type": "markdown",
      "id": "c8fc2858",
      "metadata": {
        "id": "c8fc2858",
        "papermill": {
          "duration": 0.023053,
          "end_time": "2021-09-16T12:41:00.726214",
          "exception": false,
          "start_time": "2021-09-16T12:41:00.703161",
          "status": "completed"
        },
        "tags": []
      },
      "source": [
        "In this tutorial, we work with the CIFAR10 dataset.\n",
        "In CIFAR10, each image has 3 color channels and is 32x32 pixels large.\n",
        "As autoencoders do not have the constrain of modeling images probabilistic, we can work on more complex image data\n",
        "(i.e. 3 color channels instead of black-and-white) much easier than for VAEs.\n",
        "In case you have downloaded CIFAR10 already in a different directory, make sure to set DATASET_PATH\n",
        "accordingly to prevent another download.\n",
        "\n",
        "In contrast to previous tutorials on CIFAR10 like\n",
        "[Tutorial 5](https://uvadlc-notebooks.readthedocs.io/en/latest/tutorial_notebooks/tutorial5/Inception_ResNet_DenseNet.html)\n",
        "(CNN classification), we do not normalize the data explicitly with a mean of 0 and std of 1,\n",
        "but roughly estimate it scaling the data between -1 and 1.\n",
        "This is because limiting the range will make our task of predicting/reconstructing images easier."
      ]
    },
    {
      "cell_type": "code",
      "execution_count": 4,
      "id": "e7a54614",
      "metadata": {
        "execution": {
          "iopub.execute_input": "2021-09-16T12:41:00.777942Z",
          "iopub.status.busy": "2021-09-16T12:41:00.777448Z",
          "iopub.status.idle": "2021-09-16T12:41:02.307895Z",
          "shell.execute_reply": "2021-09-16T12:41:02.307448Z"
        },
        "id": "e7a54614",
        "lines_to_next_cell": 2,
        "outputId": "86a0f155-c7ef-4081-c375-880cb008da9c",
        "papermill": {
          "duration": 1.558951,
          "end_time": "2021-09-16T12:41:02.308015",
          "exception": false,
          "start_time": "2021-09-16T12:41:00.749064",
          "status": "completed"
        },
        "tags": []
      },
      "outputs": [
        {
          "name": "stderr",
          "output_type": "stream",
          "text": [
            "Global seed set to 42\n"
          ]
        }
      ],
      "source": [
        "# Transformations applied on each image => only make them a tensor\n",
        "transform = transforms.Compose([transforms.Resize((32,32)) ,transforms.ToTensor(), transforms.Normalize((0.5,), (0.5,))])\n",
        "\n",
        "# Loading the training dataset. We need to split it into a training and validation part\n",
        "# train_dataset = CIFAR10(root=DATASET_PATH, train=True, transform=transform, download=True)\n",
        "\n",
        "# TODO: dividi all labels in test e set\n",
        "\n",
        "train_dataset = TrashbinDataset(csv='dataset/training.csv', transform=transform)\n",
        "\n",
        "pl.seed_everything(42)\n",
        "\n",
        "train_set, val_set = torch.utils.data.random_split(train_dataset, [6000, 600])\n",
        "\n",
        "# Loading the test set\n",
        "# test_set = CIFAR10(root=DATASET_PATH, train=False, transform=transform, download=True)\n",
        "test_set = TrashbinDataset(csv='dataset/test.csv', transform=transform)\n",
        "\n",
        "\n",
        "# We define a set of data loaders that we can use for various purposes later.\n",
        "train_loader = data.DataLoader(train_set, batch_size=256, shuffle=True, drop_last=True, pin_memory=True, num_workers=4)\n",
        "val_loader = data.DataLoader(val_set, batch_size=256, shuffle=False, drop_last=False, num_workers=4)\n",
        "test_loader = data.DataLoader(test_set, batch_size=256, shuffle=False, drop_last=False, num_workers=4)\n",
        "\n",
        "\n",
        "def get_train_images(num):\n",
        "    return torch.stack([train_dataset[i][0] for i in range(num)], dim=0)"
      ]
    },
    {
      "cell_type": "markdown",
      "id": "ac14f5b0",
      "metadata": {
        "id": "ac14f5b0",
        "papermill": {
          "duration": 0.023214,
          "end_time": "2021-09-16T12:41:02.355175",
          "exception": false,
          "start_time": "2021-09-16T12:41:02.331961",
          "status": "completed"
        },
        "tags": []
      },
      "source": [
        "## Building the autoencoder\n",
        "\n",
        "In general, an autoencoder consists of an **encoder** that maps the input $x$ to a lower-dimensional feature vector $z$,\n",
        "and a **decoder** that reconstructs the input $\\hat{x}$ from $z$.\n",
        "We train the model by comparing $x$ to $\\hat{x}$ and optimizing the parameters to increase the similarity between $x$ and $\\hat{x}$.\n",
        "See below for a small illustration of the autoencoder framework."
      ]
    },
    {
      "cell_type": "markdown",
      "id": "8aa77f09",
      "metadata": {
        "id": "8aa77f09",
        "papermill": {
          "duration": 0.023251,
          "end_time": "2021-09-16T12:41:02.401674",
          "exception": false,
          "start_time": "2021-09-16T12:41:02.378423",
          "status": "completed"
        },
        "tags": []
      },
      "source": [
        "<center width=\"100%\"><img src=\"https://github.com/PyTorchLightning/lightning-tutorials/raw/main/course_UvA-DL/08-deep-autoencoders/autoencoder_visualization.svg\" style=\"display: block; margin-left: auto; margin-right: auto;\" width=\"650px\"/></center>"
      ]
    },
    {
      "cell_type": "markdown",
      "id": "b4e16e51",
      "metadata": {
        "id": "b4e16e51",
        "lines_to_next_cell": 2,
        "papermill": {
          "duration": 0.023141,
          "end_time": "2021-09-16T12:41:02.447908",
          "exception": false,
          "start_time": "2021-09-16T12:41:02.424767",
          "status": "completed"
        },
        "tags": []
      },
      "source": [
        "We first start by implementing the encoder.\n",
        "The encoder effectively consists of a deep convolutional network, where we scale down the image layer-by-layer using strided convolutions.\n",
        "After downscaling the image three times, we flatten the features and apply linear layers.\n",
        "The latent representation $z$ is therefore a vector of size *d* which can be flexibly selected."
      ]
    },
    {
      "cell_type": "code",
      "execution_count": 5,
      "id": "7a89bc88",
      "metadata": {
        "execution": {
          "iopub.execute_input": "2021-09-16T12:41:02.501193Z",
          "iopub.status.busy": "2021-09-16T12:41:02.500706Z",
          "iopub.status.idle": "2021-09-16T12:41:02.502735Z",
          "shell.execute_reply": "2021-09-16T12:41:02.502267Z"
        },
        "id": "7a89bc88",
        "lines_to_next_cell": 2,
        "papermill": {
          "duration": 0.031646,
          "end_time": "2021-09-16T12:41:02.502835",
          "exception": false,
          "start_time": "2021-09-16T12:41:02.471189",
          "status": "completed"
        },
        "tags": []
      },
      "outputs": [],
      "source": [
        "class Encoder(nn.Module):\n",
        "    def __init__(self, num_input_channels: int, base_channel_size: int, latent_dim: int, act_fn: object = nn.GELU):\n",
        "        \"\"\"\n",
        "        Args:\n",
        "            num_input_channels : Number of input channels of the image. For CIFAR, this parameter is 3\n",
        "            base_channel_size : Number of channels we use in the first convolutional layers. Deeper layers might use a duplicate of it.\n",
        "            latent_dim : Dimensionality of latent representation z\n",
        "            act_fn : Activation function used throughout the encoder network\n",
        "        \"\"\"\n",
        "        super().__init__()\n",
        "        c_hid = base_channel_size\n",
        "        self.net = nn.Sequential(\n",
        "            nn.Conv2d(num_input_channels, c_hid, kernel_size=3, padding=1, stride=2),  # 32x32 => 16x16\n",
        "            act_fn(),\n",
        "            nn.Conv2d(c_hid, c_hid, kernel_size=3, padding=1),\n",
        "            act_fn(),\n",
        "            nn.Conv2d(c_hid, 2 * c_hid, kernel_size=3, padding=1, stride=2),  # 16x16 => 8x8\n",
        "            act_fn(),\n",
        "            nn.Conv2d(2 * c_hid, 2 * c_hid, kernel_size=3, padding=1),\n",
        "            act_fn(),\n",
        "            nn.Conv2d(2 * c_hid, 2 * c_hid, kernel_size=3, padding=1, stride=2),  # 8x8 => 4x4\n",
        "            act_fn(),\n",
        "            nn.Flatten(),  # Image grid to single feature vector\n",
        "            nn.Linear(2 * 16 * c_hid, latent_dim),\n",
        "        )\n",
        "\n",
        "    def forward(self, x):\n",
        "        return self.net(x)"
      ]
    },
    {
      "cell_type": "markdown",
      "id": "76a60820",
      "metadata": {
        "id": "76a60820",
        "papermill": {
          "duration": 0.023574,
          "end_time": "2021-09-16T12:41:02.549985",
          "exception": false,
          "start_time": "2021-09-16T12:41:02.526411",
          "status": "completed"
        },
        "tags": []
      },
      "source": [
        "Note that we do not apply Batch Normalization here.\n",
        "This is because we want the encoding of each image to be independent of all the other images.\n",
        "Otherwise, we might introduce correlations into the encoding or decoding that we do not want to have.\n",
        "In some implementations, you still can see Batch Normalization being used, because it can also serve as a form of regularization.\n",
        "Nevertheless, the better practice is to go with other normalization techniques if necessary like Instance Normalization or Layer Normalization.\n",
        "Given the small size of the model, we can neglect normalization for now."
      ]
    },
    {
      "cell_type": "markdown",
      "id": "56b7a01a",
      "metadata": {
        "id": "56b7a01a",
        "lines_to_next_cell": 2,
        "papermill": {
          "duration": 0.023466,
          "end_time": "2021-09-16T12:41:02.596962",
          "exception": false,
          "start_time": "2021-09-16T12:41:02.573496",
          "status": "completed"
        },
        "tags": []
      },
      "source": [
        "The decoder is a mirrored, flipped version of the encoder.\n",
        "The only difference is that we replace strided convolutions by transposed convolutions\n",
        "(i.e. deconvolutions) to upscale the features.\n",
        "Transposed convolutions can be imagined as adding the stride to the input instead of the output,\n",
        "and can thus upscale the input.\n",
        "For an illustration of a `nn.ConvTranspose2d` layer with kernel size 3, stride 2, and padding 1,\n",
        "see below (figure credit - [Vincent Dumoulin and Francesco Visin](https://arxiv.org/abs/1603.07285)):\n",
        "\n",
        "<center width=\"100%\"><img src=\"https://github.com/PyTorchLightning/lightning-tutorials/raw/main/course_UvA-DL/08-deep-autoencoders/deconvolution.gif\" width=\"250px\"></center>\n",
        "\n",
        "You see that for an input of size $3\\times3$, we obtain an output of $5\\times5$.\n",
        "However, to truly have a reverse operation of the convolution,\n",
        "we need to ensure that the layer scales the input shape by a factor of 2 (e.g. $4\\times4\\to8\\times8$).\n",
        "For this, we can specify the parameter `output_padding` which adds additional values to the output shape.\n",
        "Note that we do not perform zero-padding with this, but rather increase the output shape for calculation.\n",
        "\n",
        "Overall, the decoder can be implemented as follows:"
      ]
    },
    {
      "cell_type": "code",
      "execution_count": 6,
      "id": "8197fb2e",
      "metadata": {
        "execution": {
          "iopub.execute_input": "2021-09-16T12:41:02.650981Z",
          "iopub.status.busy": "2021-09-16T12:41:02.650503Z",
          "iopub.status.idle": "2021-09-16T12:41:02.652477Z",
          "shell.execute_reply": "2021-09-16T12:41:02.652080Z"
        },
        "id": "8197fb2e",
        "lines_to_next_cell": 2,
        "papermill": {
          "duration": 0.032082,
          "end_time": "2021-09-16T12:41:02.652576",
          "exception": false,
          "start_time": "2021-09-16T12:41:02.620494",
          "status": "completed"
        },
        "tags": []
      },
      "outputs": [],
      "source": [
        "class Decoder(nn.Module):\n",
        "    def __init__(self, num_input_channels: int, base_channel_size: int, latent_dim: int, act_fn: object = nn.GELU):\n",
        "        \"\"\"\n",
        "        Args:\n",
        "            num_input_channels : Number of channels of the image to reconstruct. For CIFAR, this parameter is 3\n",
        "            base_channel_size : Number of channels we use in the last convolutional layers. Early layers might use a duplicate of it.\n",
        "            latent_dim : Dimensionality of latent representation z\n",
        "            act_fn : Activation function used throughout the decoder network\n",
        "        \"\"\"\n",
        "        super().__init__()\n",
        "        c_hid = base_channel_size\n",
        "        self.linear = nn.Sequential(nn.Linear(latent_dim, 2 * 16 * c_hid), act_fn())\n",
        "        self.net = nn.Sequential(\n",
        "            nn.ConvTranspose2d(\n",
        "                2 * c_hid, 2 * c_hid, kernel_size=3, output_padding=1, padding=1, stride=2\n",
        "            ),  # 4x4 => 8x8\n",
        "            act_fn(),\n",
        "            nn.Conv2d(2 * c_hid, 2 * c_hid, kernel_size=3, padding=1),\n",
        "            act_fn(),\n",
        "            nn.ConvTranspose2d(2 * c_hid, c_hid, kernel_size=3, output_padding=1, padding=1, stride=2),  # 8x8 => 16x16\n",
        "            act_fn(),\n",
        "            nn.Conv2d(c_hid, c_hid, kernel_size=3, padding=1),\n",
        "            act_fn(),\n",
        "            nn.ConvTranspose2d(\n",
        "                c_hid, num_input_channels, kernel_size=3, output_padding=1, padding=1, stride=2\n",
        "            ),  # 16x16 => 32x32\n",
        "            nn.Tanh(),  # The input images is scaled between -1 and 1, hence the output has to be bounded as well\n",
        "        )\n",
        "\n",
        "    def forward(self, x):\n",
        "        x = self.linear(x)\n",
        "        x = x.reshape(x.shape[0], -1, 4, 4)\n",
        "        x = self.net(x)\n",
        "        return x"
      ]
    },
    {
      "cell_type": "markdown",
      "id": "d2ea7d77",
      "metadata": {
        "id": "d2ea7d77",
        "lines_to_next_cell": 2,
        "papermill": {
          "duration": 0.023491,
          "end_time": "2021-09-16T12:41:02.699586",
          "exception": false,
          "start_time": "2021-09-16T12:41:02.676095",
          "status": "completed"
        },
        "tags": []
      },
      "source": [
        "The encoder and decoder networks we chose here are relatively simple.\n",
        "Usually, more complex networks are applied, especially when using a ResNet-based architecture.\n",
        "For example, see [VQ-VAE](https://arxiv.org/abs/1711.00937) and\n",
        "[NVAE](https://arxiv.org/abs/2007.03898) (although the papers discuss architectures for VAEs,\n",
        "they can equally be applied to standard autoencoders).\n",
        "\n",
        "In a final step, we add the encoder and decoder together into the autoencoder architecture.\n",
        "We define the autoencoder as PyTorch Lightning Module to simplify the needed training code:"
      ]
    },
    {
      "cell_type": "code",
      "execution_count": 7,
      "id": "3addaf83",
      "metadata": {
        "execution": {
          "iopub.execute_input": "2021-09-16T12:41:02.755000Z",
          "iopub.status.busy": "2021-09-16T12:41:02.748144Z",
          "iopub.status.idle": "2021-09-16T12:41:02.756989Z",
          "shell.execute_reply": "2021-09-16T12:41:02.756529Z"
        },
        "id": "3addaf83",
        "lines_to_next_cell": 2,
        "papermill": {
          "duration": 0.034085,
          "end_time": "2021-09-16T12:41:02.757086",
          "exception": false,
          "start_time": "2021-09-16T12:41:02.723001",
          "status": "completed"
        },
        "tags": []
      },
      "outputs": [],
      "source": [
        "class Autoencoder(pl.LightningModule):\n",
        "    def __init__(\n",
        "        self,\n",
        "        base_channel_size: int,\n",
        "        latent_dim: int,\n",
        "        encoder_class: object = Encoder,\n",
        "        decoder_class: object = Decoder,\n",
        "        num_input_channels: int = 3,\n",
        "        width: int = 32,\n",
        "        height: int = 32,\n",
        "    ):\n",
        "        super().__init__()\n",
        "        # Saving hyperparameters of autoencoder\n",
        "        self.save_hyperparameters()\n",
        "        # Creating encoder and decoder\n",
        "        self.encoder = encoder_class(num_input_channels, base_channel_size, latent_dim)\n",
        "        self.decoder = decoder_class(num_input_channels, base_channel_size, latent_dim)\n",
        "        # Example input array needed for visualizing the graph of the network\n",
        "        self.example_input_array = torch.zeros(2, num_input_channels, width, height)\n",
        "\n",
        "    def forward(self, x):\n",
        "        \"\"\"The forward function takes in an image and returns the reconstructed image.\"\"\"\n",
        "        z = self.encoder(x)\n",
        "        x_hat = self.decoder(z)\n",
        "        return x_hat\n",
        "\n",
        "    def _get_reconstruction_loss(self, batch):\n",
        "        \"\"\"Given a batch of images, this function returns the reconstruction loss (MSE in our case)\"\"\"\n",
        "        x, _ = batch  # We do not need the labels\n",
        "        x_hat = self.forward(x)\n",
        "        loss = F.mse_loss(x, x_hat, reduction=\"none\")\n",
        "        loss = loss.sum(dim=[1, 2, 3]).mean(dim=[0])\n",
        "        return loss\n",
        "\n",
        "    def configure_optimizers(self):\n",
        "        optimizer = optim.Adam(self.parameters(), lr=1e-3)\n",
        "        # Using a scheduler is optional but can be helpful.\n",
        "        # The scheduler reduces the LR if the validation performance hasn't improved for the last N epochs\n",
        "        scheduler = optim.lr_scheduler.ReduceLROnPlateau(optimizer, mode=\"min\", factor=0.2, patience=20, min_lr=5e-5)\n",
        "        return {\"optimizer\": optimizer, \"lr_scheduler\": scheduler, \"monitor\": \"val_loss\"}\n",
        "\n",
        "    def training_step(self, batch, batch_idx):\n",
        "        loss = self._get_reconstruction_loss(batch)\n",
        "        self.log(\"train_loss\", loss)\n",
        "        return loss\n",
        "\n",
        "    def validation_step(self, batch, batch_idx):\n",
        "        loss = self._get_reconstruction_loss(batch)\n",
        "        self.log(\"val_loss\", loss)\n",
        "\n",
        "    def test_step(self, batch, batch_idx):\n",
        "        loss = self._get_reconstruction_loss(batch)\n",
        "        self.log(\"test_loss\", loss)"
      ]
    },
    {
      "cell_type": "markdown",
      "id": "5ce14e90",
      "metadata": {
        "id": "5ce14e90",
        "lines_to_next_cell": 2,
        "papermill": {
          "duration": 0.02353,
          "end_time": "2021-09-16T12:41:02.804310",
          "exception": false,
          "start_time": "2021-09-16T12:41:02.780780",
          "status": "completed"
        },
        "tags": []
      },
      "source": [
        "For the loss function, we use the mean squared error (MSE).\n",
        "The mean squared error pushes the network to pay special attention to those pixel values its estimate is far away.\n",
        "Predicting 127 instead of 128 is not important when reconstructing, but confusing 0 with 128 is much worse.\n",
        "Note that in contrast to VAEs, we do not predict the probability per pixel value, but instead use a distance measure.\n",
        "This saves a lot of parameters and simplifies training.\n",
        "To get a better intuition per pixel, we report the summed squared error averaged over the batch dimension\n",
        "(any other mean/sum leads to the same result/parameters).\n",
        "\n",
        "However, MSE has also some considerable disadvantages.\n",
        "Usually, MSE leads to blurry images where small noise/high-frequent patterns are removed as those cause a very low error.\n",
        "To ensure realistic images to be reconstructed, one could combine Generative Adversarial Networks\n",
        "(lecture 10) with autoencoders as done in several works (e.g. see [here](https://arxiv.org/abs/1704.02304),\n",
        "[here](https://arxiv.org/abs/1511.05644) or these [slides](http://elarosca.net/slides/iccv_autoencoder_gans.pdf)).\n",
        "Additionally, comparing two images using MSE does not necessarily reflect their visual similarity.\n",
        "For instance, suppose the autoencoder reconstructs an image shifted by one pixel to the right and bottom.\n",
        "Although the images are almost identical, we can get a higher loss than predicting a constant pixel value for half of the image (see code below).\n",
        "An example solution for this issue includes using a separate, pre-trained CNN,\n",
        "and use a distance of visual features in lower layers as a distance measure instead of the original pixel-level comparison."
      ]
    },
    {
      "cell_type": "code",
      "execution_count": 8,
      "id": "031f9cd6",
      "metadata": {
        "execution": {
          "iopub.execute_input": "2021-09-16T12:41:02.857901Z",
          "iopub.status.busy": "2021-09-16T12:41:02.852996Z",
          "iopub.status.idle": "2021-09-16T12:41:03.403790Z",
          "shell.execute_reply": "2021-09-16T12:41:03.403315Z"
        },
        "id": "031f9cd6",
        "outputId": "736a3b2d-5a1e-4a4b-8536-f5114fc46b48",
        "papermill": {
          "duration": 0.576043,
          "end_time": "2021-09-16T12:41:03.403902",
          "exception": false,
          "start_time": "2021-09-16T12:41:02.827859",
          "status": "completed"
        },
        "tags": []
      },
      "outputs": [
        {
          "name": "stderr",
          "output_type": "stream",
          "text": [
            "/Users/danilo/GitHub/deep-learning/venv/lib/python3.9/site-packages/torchvision/utils.py:50: UserWarning: range will be deprecated, please use value_range instead.\n",
            "  warnings.warn(warning)\n"
          ]
        },
        {
          "data": {
            "image/png": "[encoded data removed]",
            "text/plain": [
              "<Figure size 288x144 with 1 Axes>"
            ]
          },
          "metadata": {
            "needs_background": "light"
          },
          "output_type": "display_data"
        },
        {
          "data": {
            "image/png": "[encoded data removed]",
            "text/plain": [
              "<Figure size 288x144 with 1 Axes>"
            ]
          },
          "metadata": {
            "needs_background": "light"
          },
          "output_type": "display_data"
        },
        {
          "data": {
            "image/png": "[encoded data removed]",
            "text/plain": [
              "<Figure size 288x144 with 1 Axes>"
            ]
          },
          "metadata": {
            "needs_background": "light"
          },
          "output_type": "display_data"
        },
        {
          "data": {
            "image/png": "[encoded data removed]",
            "text/plain": [
              "<Figure size 288x144 with 1 Axes>"
            ]
          },
          "metadata": {
            "needs_background": "light"
          },
          "output_type": "display_data"
        }
      ],
      "source": [
        "def compare_imgs(img1, img2, title_prefix=\"\"):\n",
        "    # Calculate MSE loss between both images\n",
        "    loss = F.mse_loss(img1, img2, reduction=\"sum\")\n",
        "    # Plot images for visual comparison\n",
        "    grid = torchvision.utils.make_grid(torch.stack([img1, img2], dim=0), nrow=2, normalize=True, range=(-1, 1))\n",
        "    grid = grid.permute(1, 2, 0)\n",
        "    plt.figure(figsize=(4, 2))\n",
        "    plt.title(f\"{title_prefix} Loss: {loss.item():4.2f}\")\n",
        "    plt.imshow(grid)\n",
        "    plt.axis(\"off\")\n",
        "    plt.show()\n",
        "\n",
        "\n",
        "for i in range(2):\n",
        "    # Load example image\n",
        "    img, _ = train_dataset[i]\n",
        "    img_mean = img.mean(dim=[1, 2], keepdims=True)\n",
        "\n",
        "    # Shift image by one pixel\n",
        "    SHIFT = 1\n",
        "    img_shifted = torch.roll(img, shifts=SHIFT, dims=1)\n",
        "    img_shifted = torch.roll(img_shifted, shifts=SHIFT, dims=2)\n",
        "    img_shifted[:, :1, :] = img_mean\n",
        "    img_shifted[:, :, :1] = img_mean\n",
        "    compare_imgs(img, img_shifted, \"Shifted -\")\n",
        "\n",
        "    # Set half of the image to zero\n",
        "    img_masked = img.clone()\n",
        "    img_masked[:, : img_masked.shape[1] // 2, :] = img_mean\n",
        "    compare_imgs(img, img_masked, \"Masked -\")"
      ]
    },
    {
      "cell_type": "markdown",
      "id": "7bfc9b9f",
      "metadata": {
        "id": "7bfc9b9f",
        "lines_to_next_cell": 2,
        "papermill": {
          "duration": 0.028564,
          "end_time": "2021-09-16T12:41:03.462047",
          "exception": false,
          "start_time": "2021-09-16T12:41:03.433483",
          "status": "completed"
        },
        "tags": []
      },
      "source": [
        "### Training the model\n",
        "\n",
        "During the training, we want to keep track of the learning progress by seeing reconstructions made by our model.\n",
        "For this, we implement a callback object in PyTorch Lightning which will add reconstructions every $N$ epochs to our tensorboard:"
      ]
    },
    {
      "cell_type": "code",
      "execution_count": 9,
      "id": "e6e82979",
      "metadata": {
        "execution": {
          "iopub.execute_input": "2021-09-16T12:41:03.525671Z",
          "iopub.status.busy": "2021-09-16T12:41:03.525205Z",
          "iopub.status.idle": "2021-09-16T12:41:03.527269Z",
          "shell.execute_reply": "2021-09-16T12:41:03.526813Z"
        },
        "id": "e6e82979",
        "lines_to_next_cell": 2,
        "papermill": {
          "duration": 0.036008,
          "end_time": "2021-09-16T12:41:03.527366",
          "exception": false,
          "start_time": "2021-09-16T12:41:03.491358",
          "status": "completed"
        },
        "tags": []
      },
      "outputs": [],
      "source": [
        "class GenerateCallback(pl.Callback):\n",
        "    def __init__(self, input_imgs, every_n_epochs=1):\n",
        "        super().__init__()\n",
        "        self.input_imgs = input_imgs  # Images to reconstruct during training\n",
        "        # Only save those images every N epochs (otherwise tensorboard gets quite large)\n",
        "        self.every_n_epochs = every_n_epochs\n",
        "\n",
        "    def on_epoch_end(self, trainer, pl_module):\n",
        "        if trainer.current_epoch % self.every_n_epochs == 0:\n",
        "            # Reconstruct images\n",
        "            input_imgs = self.input_imgs.to(pl_module.device)\n",
        "            with torch.no_grad():\n",
        "                pl_module.eval()\n",
        "                reconst_imgs = pl_module(input_imgs)\n",
        "                pl_module.train()\n",
        "            # Plot and add to tensorboard\n",
        "            imgs = torch.stack([input_imgs, reconst_imgs], dim=1).flatten(0, 1)\n",
        "            grid = torchvision.utils.make_grid(imgs, nrow=2, normalize=True, range=(-1, 1))\n",
        "            trainer.logger.experiment.add_image(\"Reconstructions\", grid, global_step=trainer.global_step)"
      ]
    },
    {
      "cell_type": "markdown",
      "id": "0825de1a",
      "metadata": {
        "id": "0825de1a",
        "lines_to_next_cell": 2,
        "papermill": {
          "duration": 0.028704,
          "end_time": "2021-09-16T12:41:03.584828",
          "exception": false,
          "start_time": "2021-09-16T12:41:03.556124",
          "status": "completed"
        },
        "tags": []
      },
      "source": [
        "We will now write a training function that allows us to train the autoencoder with different latent dimensionality\n",
        "and returns both the test and validation score.\n",
        "We provide pre-trained models and recommend you using those, especially when you work on a computer without GPU.\n",
        "Of course, feel free to train your own models on Lisa."
      ]
    },
    {
      "cell_type": "code",
      "execution_count": 10,
      "id": "da4ec41c",
      "metadata": {
        "execution": {
          "iopub.execute_input": "2021-09-16T12:41:03.648305Z",
          "iopub.status.busy": "2021-09-16T12:41:03.647832Z",
          "iopub.status.idle": "2021-09-16T12:41:03.649849Z",
          "shell.execute_reply": "2021-09-16T12:41:03.649433Z"
        },
        "id": "da4ec41c",
        "papermill": {
          "duration": 0.036319,
          "end_time": "2021-09-16T12:41:03.649948",
          "exception": false,
          "start_time": "2021-09-16T12:41:03.613629",
          "status": "completed"
        },
        "tags": []
      },
      "outputs": [],
      "source": [
        "def train_cifar(latent_dim):\n",
        "    # Create a PyTorch Lightning trainer with the generation callback\n",
        "    trainer = pl.Trainer(\n",
        "        default_root_dir=os.path.join(CHECKPOINT_PATH, \"cifar10_%i\" % latent_dim),\n",
        "        gpus=1 if str(device).startswith(\"cuda\") else 0,\n",
        "        max_epochs=2,\n",
        "        callbacks=[\n",
        "            ModelCheckpoint(save_weights_only=True),\n",
        "            GenerateCallback(get_train_images(8), every_n_epochs=10),\n",
        "            LearningRateMonitor(\"epoch\"),\n",
        "        ],\n",
        "    )\n",
        "    trainer.logger._log_graph = True  # If True, we plot the computation graph in tensorboard\n",
        "    trainer.logger._default_hp_metric = None  # Optional logging argument that we don't need\n",
        "\n",
        "    # Check whether pretrained model exists. If yes, load it and skip training\n",
        "    pretrained_filename = os.path.join(CHECKPOINT_PATH, \"cifar10_%i.ckpt\" % latent_dim)\n",
        "\n",
        "\n",
        "    # if os.path.isfile(pretrained_filename):\n",
        "    #     print(\"Found pretrained model, loading...\")\n",
        "    #     model = Autoencoder.load_from_checkpoint(pretrained_filename)\n",
        "    # else:\n",
        "    #     model = Autoencoder(base_channel_size=32, latent_dim=latent_dim)\n",
        "    #     trainer.fit(model, train_loader, val_loader)\n",
        "\n",
        "\n",
        "\n",
        "    model = Autoencoder(base_channel_size=32, latent_dim=latent_dim)\n",
        "    trainer.fit(model, train_loader, val_loader)\n",
        "    \n",
        "    # Test best model on validation and test set\n",
        "    val_result = trainer.test(model, test_dataloaders=val_loader, verbose=False)\n",
        "    test_result = trainer.test(model, test_dataloaders=test_loader, verbose=False)\n",
        "    result = {\"test\": test_result, \"val\": val_result}\n",
        "    return model, result"
      ]
    },
    {
      "cell_type": "markdown",
      "id": "f9c30a4b",
      "metadata": {
        "id": "f9c30a4b",
        "papermill": {
          "duration": 0.028762,
          "end_time": "2021-09-16T12:41:03.707706",
          "exception": false,
          "start_time": "2021-09-16T12:41:03.678944",
          "status": "completed"
        },
        "tags": []
      },
      "source": [
        "### Comparing latent dimensionality\n",
        "\n",
        "When training an autoencoder, we need to choose a dimensionality for the latent representation $z$.\n",
        "The higher the latent dimensionality, the better we expect the reconstruction to be.\n",
        "However, the idea of autoencoders is to *compress* data.\n",
        "Hence, we are also interested in keeping the dimensionality low.\n",
        "To find the best tradeoff, we can train multiple models with different latent dimensionalities.\n",
        "The original input has $32\\times 32\\times 3 = 3072$ pixels.\n",
        "Keeping this in mind, a reasonable choice for the latent dimensionality might be between 64 and 384:"
      ]
    },
    {
      "cell_type": "code",
      "execution_count": 13,
      "id": "af2a8f9a",
      "metadata": {
        "colab": {
          "referenced_widgets": [
            "0f11cd1f8ebc4c9cbc69478f55dac457",
            "1eeadd6528c746868701b83f54b200dc",
            "47c8df90b5414d1e8ee6e8afc2057c52",
            "0cdd717c36684008add2d6d3f93caa65",
            "8bedc95274e84f799bbef9fc04ca9934",
            "213f1af06c854f0fa5ac9c7f42e86b8b",
            "07a7fcadf97f442ca3088a5bbbcba662",
            "5cf0706e7c07460880d2fe93a1e1d4c4"
          ]
        },
        "execution": {
          "iopub.execute_input": "2021-09-16T12:41:03.768726Z",
          "iopub.status.busy": "2021-09-16T12:41:03.768265Z",
          "iopub.status.idle": "2021-09-16T12:41:12.482167Z",
          "shell.execute_reply": "2021-09-16T12:41:12.482555Z"
        },
        "id": "af2a8f9a",
        "outputId": "011e3890-f9e7-43b1-f9ce-80f151538d02",
        "papermill": {
          "duration": 8.746282,
          "end_time": "2021-09-16T12:41:12.482697",
          "exception": false,
          "start_time": "2021-09-16T12:41:03.736415",
          "status": "completed"
        },
        "tags": []
      },
      "outputs": [
        {
          "name": "stderr",
          "output_type": "stream",
          "text": [
            "GPU available: False, used: False\n",
            "TPU available: False, using: 0 TPU cores\n",
            "IPU available: False, using: 0 IPUs\n",
            "\n",
            "  | Name    | Type    | Params | In sizes       | Out sizes     \n",
            "----------------------------------------------------------------------\n",
            "0 | encoder | Encoder | 168 K  | [2, 3, 32, 32] | [2, 64]       \n",
            "1 | decoder | Decoder | 168 K  | [2, 64]        | [2, 3, 32, 32]\n",
            "----------------------------------------------------------------------\n",
            "337 K     Trainable params\n",
            "0         Non-trainable params\n",
            "337 K     Total params\n",
            "1.348     Total estimated model params size (MB)\n"
          ]
        },
        {
          "name": "stdout",
          "output_type": "stream",
          "text": [
            "                                                                      "
          ]
        },
        {
          "name": "stderr",
          "output_type": "stream",
          "text": [
            "Global seed set to 42\n"
          ]
        },
        {
          "name": "stdout",
          "output_type": "stream",
          "text": [
            "Epoch 1: 100%|██████████| 26/26 [01:48<00:00,  4.17s/it, loss=319, v_num=22]\n",
            "Testing: 100%|██████████| 3/3 [00:26<00:00,  8.71s/it]\n",
            "Testing: 100%|██████████| 16/16 [00:54<00:00,  3.38s/it]\n"
          ]
        }
      ],
      "source": [
        "model_dict = {}\n",
        "# for latent_dim in [64, 128, 256, 384]:\n",
        "for latent_dim in [64]:\n",
        "    model_ld, result_ld = train_cifar(latent_dim)\n",
        "    model_dict[latent_dim] = {\"model\": model_ld, \"result\": result_ld}"
      ]
    },
    {
      "cell_type": "markdown",
      "id": "e6e59925",
      "metadata": {
        "id": "e6e59925",
        "papermill": {
          "duration": 0.036287,
          "end_time": "2021-09-16T12:41:12.556351",
          "exception": false,
          "start_time": "2021-09-16T12:41:12.520064",
          "status": "completed"
        },
        "tags": []
      },
      "source": [
        "After training the models, we can plot the reconstruction loss over the latent dimensionality to get an intuition\n",
        "how these two properties are correlated:"
      ]
    },
    {
      "cell_type": "code",
      "execution_count": null,
      "id": "1b5b80aa",
      "metadata": {
        "execution": {
          "iopub.execute_input": "2021-09-16T12:41:12.655386Z",
          "iopub.status.busy": "2021-09-16T12:41:12.644902Z",
          "iopub.status.idle": "2021-09-16T12:41:12.911585Z",
          "shell.execute_reply": "2021-09-16T12:41:12.911109Z"
        },
        "id": "1b5b80aa",
        "outputId": "3a1fd7ce-53bf-4de3-d1aa-a044c9688d72",
        "papermill": {
          "duration": 0.318993,
          "end_time": "2021-09-16T12:41:12.911693",
          "exception": false,
          "start_time": "2021-09-16T12:41:12.592700",
          "status": "completed"
        },
        "tags": []
      },
      "outputs": [
        {
          "data": {
            "image/png": "[encoded data removed]",
            "text/plain": [
              "<Figure size 432x288 with 1 Axes>"
            ]
          },
          "metadata": {
            "needs_background": "light"
          },
          "output_type": "display_data"
        }
      ],
      "source": [
        "latent_dims = sorted(k for k in model_dict)\n",
        "val_scores = [model_dict[k][\"result\"][\"val\"][0][\"test_loss\"] for k in latent_dims]\n",
        "\n",
        "fig = plt.figure(figsize=(6, 4))\n",
        "plt.plot(\n",
        "    latent_dims, val_scores, \"--\", color=\"#000\", marker=\"*\", markeredgecolor=\"#000\", markerfacecolor=\"y\", markersize=16\n",
        ")\n",
        "plt.xscale(\"log\")\n",
        "plt.xticks(latent_dims, labels=latent_dims)\n",
        "plt.title(\"Reconstruction error over latent dimensionality\", fontsize=14)\n",
        "plt.xlabel(\"Latent dimensionality\")\n",
        "plt.ylabel(\"Reconstruction error\")\n",
        "plt.minorticks_off()\n",
        "plt.ylim(0, 100)\n",
        "plt.show()"
      ]
    },
    {
      "cell_type": "markdown",
      "id": "e03a327e",
      "metadata": {
        "id": "e03a327e",
        "lines_to_next_cell": 2,
        "papermill": {
          "duration": 0.037468,
          "end_time": "2021-09-16T12:41:12.988817",
          "exception": false,
          "start_time": "2021-09-16T12:41:12.951349",
          "status": "completed"
        },
        "tags": []
      },
      "source": [
        "As we initially expected, the reconstruction loss goes down with increasing latent dimensionality.\n",
        "For our model and setup, the two properties seem to be exponentially (or double exponentially) correlated.\n",
        "To understand what these differences in reconstruction error mean, we can visualize example reconstructions of the four models:"
      ]
    },
    {
      "cell_type": "code",
      "execution_count": 14,
      "id": "24dd2b64",
      "metadata": {
        "execution": {
          "iopub.execute_input": "2021-09-16T12:41:13.069820Z",
          "iopub.status.busy": "2021-09-16T12:41:13.069333Z",
          "iopub.status.idle": "2021-09-16T12:41:13.071023Z",
          "shell.execute_reply": "2021-09-16T12:41:13.071399Z"
        },
        "id": "24dd2b64",
        "papermill": {
          "duration": 0.045096,
          "end_time": "2021-09-16T12:41:13.071514",
          "exception": false,
          "start_time": "2021-09-16T12:41:13.026418",
          "status": "completed"
        },
        "tags": []
      },
      "outputs": [],
      "source": [
        "def visualize_reconstructions(model, input_imgs):\n",
        "    # Reconstruct images\n",
        "    model.eval()\n",
        "    with torch.no_grad():\n",
        "        reconst_imgs = model(input_imgs.to(model.device))\n",
        "    reconst_imgs = reconst_imgs.cpu()\n",
        "\n",
        "    # Plotting\n",
        "    imgs = torch.stack([input_imgs, reconst_imgs], dim=1).flatten(0, 1)\n",
        "    grid = torchvision.utils.make_grid(imgs, nrow=4, normalize=True, range=(-1, 1))\n",
        "    grid = grid.permute(1, 2, 0)\n",
        "    plt.figure(figsize=(7, 4.5))\n",
        "    plt.title(\"Reconstructed from %i latents\" % (model.hparams.latent_dim))\n",
        "    plt.imshow(grid)\n",
        "    plt.axis(\"off\")\n",
        "    plt.show()"
      ]
    },
    {
      "cell_type": "code",
      "execution_count": 15,
      "id": "2b81b994",
      "metadata": {
        "execution": {
          "iopub.execute_input": "2021-09-16T12:41:13.150447Z",
          "iopub.status.busy": "2021-09-16T12:41:13.149978Z",
          "iopub.status.idle": "2021-09-16T12:41:14.196317Z",
          "shell.execute_reply": "2021-09-16T12:41:14.196704Z"
        },
        "id": "2b81b994",
        "outputId": "d70e01b9-7f55-41b3-ec01-cf6ed7f7b818",
        "papermill": {
          "duration": 1.087391,
          "end_time": "2021-09-16T12:41:14.196840",
          "exception": false,
          "start_time": "2021-09-16T12:41:13.109449",
          "status": "completed"
        },
        "tags": []
      },
      "outputs": [
        {
          "data": {
            "image/png": "[encoded data removed]",
            "text/plain": [
              "<Figure size 504x324 with 1 Axes>"
            ]
          },
          "metadata": {
            "needs_background": "light"
          },
          "output_type": "display_data"
        }
      ],
      "source": [
        "input_imgs = get_train_images(4)\n",
        "for latent_dim in model_dict:\n",
        "    visualize_reconstructions(model_dict[latent_dim][\"model\"], input_imgs)"
      ]
    },
    {
      "cell_type": "markdown",
      "id": "ef21b4fe",
      "metadata": {
        "id": "ef21b4fe",
        "papermill": {
          "duration": 0.057981,
          "end_time": "2021-09-16T12:41:14.313924",
          "exception": false,
          "start_time": "2021-09-16T12:41:14.255943",
          "status": "completed"
        },
        "tags": []
      },
      "source": [
        "Clearly, the smallest latent dimensionality can only save information about the rough shape and color of the object,\n",
        "but the reconstructed image is extremely blurry and it is hard to recognize the original object in the reconstruction.\n",
        "With 128 features, we can recognize some shapes again although the picture remains blurry.\n",
        "The models with the highest two dimensionalities reconstruct the images quite well.\n",
        "The difference between 256 and 384 is marginal at first sight but can be noticed when comparing, for instance,\n",
        "the backgrounds of the first image (the 384 features model more of the pattern than 256)."
      ]
    },
    {
      "cell_type": "markdown",
      "id": "beb39fdc",
      "metadata": {
        "id": "beb39fdc",
        "papermill": {
          "duration": 0.064649,
          "end_time": "2021-09-16T12:41:16.062528",
          "exception": false,
          "start_time": "2021-09-16T12:41:15.997879",
          "status": "completed"
        },
        "tags": []
      },
      "source": [
        "## Finding visually similar images\n",
        "\n",
        "One application of autoencoders is to build an image-based search engine to retrieve visually similar images.\n",
        "This can be done by representing all images as their latent dimensionality, and find the closest $K$ images in this domain.\n",
        "The first step to such a search engine is to encode all images into $z$.\n",
        "In the following, we will use the training set as a search corpus, and the test set as queries to the system."
      ]
    },
    {
      "cell_type": "code",
      "execution_count": 17,
      "id": "87bcc28e",
      "metadata": {
        "execution": {
          "iopub.execute_input": "2021-09-16T12:41:16.196119Z",
          "iopub.status.busy": "2021-09-16T12:41:16.195656Z",
          "iopub.status.idle": "2021-09-16T12:41:16.197888Z",
          "shell.execute_reply": "2021-09-16T12:41:16.197398Z"
        },
        "id": "87bcc28e",
        "papermill": {
          "duration": 0.07074,
          "end_time": "2021-09-16T12:41:16.197996",
          "exception": false,
          "start_time": "2021-09-16T12:41:16.127256",
          "status": "completed"
        },
        "tags": []
      },
      "outputs": [],
      "source": [
        "# We use the following model throughout this section.\n",
        "# If you want to try a different latent dimensionality, change it here!\n",
        "# model = model_dict[128][\"model\"]\n",
        "model = model_dict[64][\"model\"]"
      ]
    },
    {
      "cell_type": "code",
      "execution_count": 18,
      "id": "3abba35a",
      "metadata": {
        "colab": {
          "referenced_widgets": [
            "fc07ca3d23014b6f9d5fb7b961f16005",
            "6864ca7ec5744fae8c73bff0ac83cf8b"
          ]
        },
        "execution": {
          "iopub.execute_input": "2021-09-16T12:41:16.349216Z",
          "iopub.status.busy": "2021-09-16T12:41:16.336154Z",
          "iopub.status.idle": "2021-09-16T12:41:29.806879Z",
          "shell.execute_reply": "2021-09-16T12:41:29.806369Z"
        },
        "id": "3abba35a",
        "outputId": "12d94d4d-0e3f-471a-f983-35fec7e9dff6",
        "papermill": {
          "duration": 13.543186,
          "end_time": "2021-09-16T12:41:29.807006",
          "exception": false,
          "start_time": "2021-09-16T12:41:16.263820",
          "status": "completed"
        },
        "tags": []
      },
      "outputs": [
        {
          "data": {
            "application/vnd.jupyter.widget-view+json": {
              "model_id": "3466016d4be3481a887f90ff22de8058",
              "version_major": 2,
              "version_minor": 0
            },
            "text/plain": [
              "Encoding images:   0%|          | 0/23 [00:00<?, ?it/s]"
            ]
          },
          "metadata": {},
          "output_type": "display_data"
        },
        {
          "data": {
            "application/vnd.jupyter.widget-view+json": {
              "model_id": "277731cc36064907be80f39a25abdafe",
              "version_major": 2,
              "version_minor": 0
            },
            "text/plain": [
              "Encoding images:   0%|          | 0/16 [00:00<?, ?it/s]"
            ]
          },
          "metadata": {},
          "output_type": "display_data"
        }
      ],
      "source": [
        "def embed_imgs(model, data_loader):\n",
        "    # Encode all images in the data_laoder using model, and return both images and encodings\n",
        "    img_list, embed_list = [], []\n",
        "    model.eval()\n",
        "    for imgs, _ in tqdm(data_loader, desc=\"Encoding images\", leave=False):\n",
        "        with torch.no_grad():\n",
        "            z = model.encoder(imgs.to(model.device))\n",
        "        img_list.append(imgs)\n",
        "        embed_list.append(z)\n",
        "    return (torch.cat(img_list, dim=0), torch.cat(embed_list, dim=0))\n",
        "\n",
        "\n",
        "train_img_embeds = embed_imgs(model, train_loader)\n",
        "test_img_embeds = embed_imgs(model, test_loader)"
      ]
    },
    {
      "cell_type": "markdown",
      "id": "29ef8f54",
      "metadata": {
        "id": "29ef8f54",
        "papermill": {
          "duration": 0.10508,
          "end_time": "2021-09-16T12:41:32.310940",
          "exception": false,
          "start_time": "2021-09-16T12:41:32.205860",
          "status": "completed"
        },
        "tags": []
      },
      "source": [
        "### Tensorboard clustering\n",
        "\n",
        "Another way of exploring the similarity of images in the latent space is by dimensionality-reduction methods like PCA or T-SNE.\n",
        "Luckily, Tensorboard provides a nice interface for this and we can make use of it in the following:"
      ]
    },
    {
      "cell_type": "code",
      "execution_count": 19,
      "id": "24541e26",
      "metadata": {
        "execution": {
          "iopub.execute_input": "2021-09-16T12:41:32.501797Z",
          "iopub.status.busy": "2021-09-16T12:41:32.501308Z",
          "iopub.status.idle": "2021-09-16T12:41:32.503351Z",
          "shell.execute_reply": "2021-09-16T12:41:32.502954Z"
        },
        "id": "24541e26",
        "papermill": {
          "duration": 0.094572,
          "end_time": "2021-09-16T12:41:32.503454",
          "exception": false,
          "start_time": "2021-09-16T12:41:32.408882",
          "status": "completed"
        },
        "tags": []
      },
      "outputs": [],
      "source": [
        "# We use the following model throughout this section.\n",
        "# If you want to try a different latent dimensionality, change it here!\n",
        "model = model_dict[64][\"model\"]"
      ]
    },
    {
      "cell_type": "code",
      "execution_count": 20,
      "id": "e6814b9e",
      "metadata": {
        "execution": {
          "iopub.execute_input": "2021-09-16T12:41:32.685746Z",
          "iopub.status.busy": "2021-09-16T12:41:32.685203Z",
          "iopub.status.idle": "2021-09-16T12:41:32.687965Z",
          "shell.execute_reply": "2021-09-16T12:41:32.687568Z"
        },
        "id": "e6814b9e",
        "papermill": {
          "duration": 0.09501,
          "end_time": "2021-09-16T12:41:32.688067",
          "exception": false,
          "start_time": "2021-09-16T12:41:32.593057",
          "status": "completed"
        },
        "tags": []
      },
      "outputs": [],
      "source": [
        "# Create a summary writer\n",
        "writer = SummaryWriter(\"tensorboard_v2/\")"
      ]
    },
    {
      "cell_type": "markdown",
      "id": "2e102b0e",
      "metadata": {
        "id": "2e102b0e",
        "papermill": {
          "duration": 0.08963,
          "end_time": "2021-09-16T12:41:32.865990",
          "exception": false,
          "start_time": "2021-09-16T12:41:32.776360",
          "status": "completed"
        },
        "tags": []
      },
      "source": [
        "The function `add_embedding` allows us to add high-dimensional feature vectors to TensorBoard on which we can perform clustering.\n",
        "What we have to provide in the function are the feature vectors, additional metadata such as the labels,\n",
        "and the original images so that we can identify a specific image in the clustering."
      ]
    },
    {
      "cell_type": "code",
      "execution_count": 21,
      "id": "5c4b01da",
      "metadata": {
        "execution": {
          "iopub.execute_input": "2021-09-16T12:41:33.232442Z",
          "iopub.status.busy": "2021-09-16T12:41:33.231963Z",
          "iopub.status.idle": "2021-09-16T12:41:40.340354Z",
          "shell.execute_reply": "2021-09-16T12:41:40.339846Z"
        },
        "id": "5c4b01da",
        "papermill": {
          "duration": 7.201161,
          "end_time": "2021-09-16T12:41:40.340471",
          "exception": false,
          "start_time": "2021-09-16T12:41:33.139310",
          "status": "completed"
        },
        "tags": []
      },
      "outputs": [],
      "source": [
        "# Note: the embedding projector in tensorboard is computationally heavy.\n",
        "# Reduce the image amount below if your computer struggles with visualizing all 10k points\n",
        "NUM_IMGS = len(test_set)\n",
        "\n",
        "writer.add_embedding(\n",
        "    test_img_embeds[1][:NUM_IMGS],  # Encodings per image\n",
        "    metadata=[test_set[i][1] for i in range(NUM_IMGS)],  # Adding the labels per image to the plot\n",
        "    label_img=(test_img_embeds[0][:NUM_IMGS] + 1) / 2.0,\n",
        ")  # Adding the original images to the plot"
      ]
    },
    {
      "cell_type": "markdown",
      "id": "ac506cfa",
      "metadata": {
        "id": "ac506cfa",
        "papermill": {
          "duration": 0.089483,
          "end_time": "2021-09-16T12:41:40.519563",
          "exception": false,
          "start_time": "2021-09-16T12:41:40.430080",
          "status": "completed"
        },
        "tags": []
      },
      "source": [
        "Finally, we can run tensorboard to explore similarities among images:"
      ]
    },
    {
      "cell_type": "code",
      "execution_count": 22,
      "id": "76094ffa",
      "metadata": {
        "execution": {
          "iopub.execute_input": "2021-09-16T12:41:40.700535Z",
          "iopub.status.busy": "2021-09-16T12:41:40.700065Z",
          "iopub.status.idle": "2021-09-16T12:41:40.702162Z",
          "shell.execute_reply": "2021-09-16T12:41:40.701752Z"
        },
        "id": "76094ffa",
        "papermill": {
          "duration": 0.094032,
          "end_time": "2021-09-16T12:41:40.702268",
          "exception": false,
          "start_time": "2021-09-16T12:41:40.608236",
          "status": "completed"
        },
        "tags": []
      },
      "outputs": [
        {
          "name": "stderr",
          "output_type": "stream",
          "text": [
            "UsageError: Line magic function `%tensorboard` not found.\n"
          ]
        }
      ],
      "source": [
        "# Uncomment the next line to start the tensorboard\n",
        "%tensorboard --logdir tensorboard/"
      ]
    },
    {
      "cell_type": "markdown",
      "id": "954ad9a4",
      "metadata": {
        "id": "954ad9a4",
        "papermill": {
          "duration": 0.089519,
          "end_time": "2021-09-16T12:41:40.880536",
          "exception": false,
          "start_time": "2021-09-16T12:41:40.791017",
          "status": "completed"
        },
        "tags": []
      },
      "source": [
        "You should be able to see something similar as in the following image.\n",
        "In case the projector stays empty, try to start the TensorBoard outside of the Jupyter notebook.\n",
        "\n",
        "<center><img src=\"https://github.com/PyTorchLightning/lightning-tutorials/raw/main/course_UvA-DL/08-deep-autoencoders/tensorboard_projector_screenshot.jpeg\" width=\"70%\"/></center>\n",
        "\n",
        "Overall, we can see that the model indeed clustered images together that are visually similar.\n",
        "Especially the background color seems to be a crucial factor in the encoding.\n",
        "This correlates to the chosen loss function, here Mean Squared Error on pixel-level\n",
        "because the background is responsible for more than half of the pixels in an average image.\n",
        "Hence, the model learns to focus on it.\n",
        "Nevertheless, we can see that the encodings also separate a couple of classes in the latent space although it hasn't seen any labels.\n",
        "This shows again that autoencoding can also be used as a \"pre-training\"/transfer learning task before classification."
      ]
    },
    {
      "cell_type": "code",
      "execution_count": 23,
      "id": "ecbf40ea",
      "metadata": {
        "execution": {
          "iopub.execute_input": "2021-09-16T12:41:41.069819Z",
          "iopub.status.busy": "2021-09-16T12:41:41.069325Z",
          "iopub.status.idle": "2021-09-16T12:41:41.071450Z",
          "shell.execute_reply": "2021-09-16T12:41:41.070984Z"
        },
        "id": "ecbf40ea",
        "papermill": {
          "duration": 0.101313,
          "end_time": "2021-09-16T12:41:41.071558",
          "exception": false,
          "start_time": "2021-09-16T12:41:40.970245",
          "status": "completed"
        },
        "tags": []
      },
      "outputs": [],
      "source": [
        "# Closing the summary writer\n",
        "writer.close()"
      ]
    },
    {
      "cell_type": "markdown",
      "id": "d031e7eb",
      "metadata": {
        "id": "d031e7eb",
        "papermill": {
          "duration": 0.088397,
          "end_time": "2021-09-16T12:41:41.248822",
          "exception": false,
          "start_time": "2021-09-16T12:41:41.160425",
          "status": "completed"
        },
        "tags": []
      },
      "source": [
        "## Conclusion\n",
        "\n",
        "In this tutorial, we have implemented our own autoencoder on small RGB images and explored various properties of the model.\n",
        "In contrast to variational autoencoders, vanilla AEs are not generative and can work on MSE loss functions.\n",
        "This makes them often easier to train.\n",
        "Both versions of AE can be used for dimensionality reduction, as we have seen for finding visually similar images beyond pixel distances.\n",
        "Despite autoencoders gaining less interest in the research community due to their more \"theoretically\"\n",
        "challenging counterpart of VAEs, autoencoders still find usage in a lot of applications like denoising and compression.\n",
        "Hence, AEs are an essential tool that every Deep Learning engineer/researcher should be familiar with."
      ]
    }
  ],
  "metadata": {
    "colab": {
      "name": "08-deep-autoencoders.ipynb",
      "provenance": []
    },
    "interpreter": {
      "hash": "7b5afb9c6c69ce826c7b3420d962c361055e44e7f6b101c54e3065067bcff4ff"
    },
    "jupytext": {
      "cell_metadata_filter": "colab_type,colab,id,-all",
      "formats": "ipynb,py:percent",
      "main_language": "python"
    },
    "kernelspec": {
      "display_name": "Python 3.9.9 ('venv': venv)",
      "language": "python",
      "name": "python3"
    },
    "language_info": {
      "codemirror_mode": {
        "name": "ipython",
        "version": 3
      },
      "file_extension": ".py",
      "mimetype": "text/x-python",
      "name": "python",
      "nbconvert_exporter": "python",
      "pygments_lexer": "ipython3",
      "version": "3.9.9"
    },
    "papermill": {
      "default_parameters": {},
      "duration": 45.56469,
      "end_time": "2021-09-16T12:41:42.325691",
      "environment_variables": {},
      "exception": null,
      "input_path": "course_UvA-DL/08-deep-autoencoders/Deep_Autoencoders.ipynb",
      "output_path": ".notebooks/course_UvA-DL/08-deep-autoencoders.ipynb",
      "parameters": {},
      "start_time": "2021-09-16T12:40:56.761001",
      "version": "2.3.3"
    },
    "widgets": {
      "application/vnd.jupyter.widget-state+json": {}
    }
  },
  "nbformat": 4,
  "nbformat_minor": 5
}
